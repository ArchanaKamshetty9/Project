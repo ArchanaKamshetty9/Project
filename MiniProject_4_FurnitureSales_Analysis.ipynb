{
 "cells": [
  {
   "cell_type": "markdown",
   "id": "ba9bc3f4",
   "metadata": {},
   "source": [
    "#### Importing Libraries"
   ]
  },
  {
   "cell_type": "code",
   "execution_count": 1,
   "id": "f71765c5",
   "metadata": {},
   "outputs": [],
   "source": [
    "import pandas as pd\n",
    "import numpy as np\n",
    "import matplotlib.pyplot as plt\n",
    "from numpy import sqrt\n",
    "import seaborn as sns\n",
    "\n",
    "from sklearn.metrics import mean_squared_error\n",
    "from statsmodels.tsa.stattools import adfuller, acf, pacf   # dickey fuller test for stationarity check\n",
    "from statsmodels.tsa.arima.model import ARIMA    # ARMA/ARIMA\n",
    "from pmdarima.arima import auto_arima  # ARIMA\n",
    "from statsmodels.tsa.seasonal import seasonal_decompose  # for seasonal decompose\n",
    "from statsmodels.graphics.tsaplots import plot_acf,plot_pacf # plot acf and pacf\n",
    "from statsmodels.tsa.statespace.sarimax import SARIMAX   # sarima/sarimax lib\n",
    "import statsmodels.api as sm  # Ljung-Box-Test\n",
    "\n",
    "import warnings  # ignore warnings\n",
    "warnings.filterwarnings('ignore')"
   ]
  },
  {
   "cell_type": "markdown",
   "id": "cd059aab",
   "metadata": {},
   "source": [
    "#### Loading the Data"
   ]
  },
  {
   "cell_type": "code",
   "execution_count": 2,
   "id": "45ab2491",
   "metadata": {},
   "outputs": [
    {
     "data": {
      "text/html": [
       "<div>\n",
       "<style scoped>\n",
       "    .dataframe tbody tr th:only-of-type {\n",
       "        vertical-align: middle;\n",
       "    }\n",
       "\n",
       "    .dataframe tbody tr th {\n",
       "        vertical-align: top;\n",
       "    }\n",
       "\n",
       "    .dataframe thead th {\n",
       "        text-align: right;\n",
       "    }\n",
       "</style>\n",
       "<table border=\"1\" class=\"dataframe\">\n",
       "  <thead>\n",
       "    <tr style=\"text-align: right;\">\n",
       "      <th></th>\n",
       "      <th>Row ID</th>\n",
       "      <th>Order ID</th>\n",
       "      <th>Ship Date</th>\n",
       "      <th>Ship Mode</th>\n",
       "      <th>Customer ID</th>\n",
       "      <th>Customer Name</th>\n",
       "      <th>Segment</th>\n",
       "      <th>Country</th>\n",
       "      <th>City</th>\n",
       "      <th>State</th>\n",
       "      <th>Postal Code</th>\n",
       "      <th>Region</th>\n",
       "      <th>Product ID</th>\n",
       "      <th>Category</th>\n",
       "      <th>Sub-Category</th>\n",
       "      <th>Product Name</th>\n",
       "      <th>Sales</th>\n",
       "      <th>Quantity</th>\n",
       "      <th>Discount</th>\n",
       "      <th>Profit</th>\n",
       "    </tr>\n",
       "    <tr>\n",
       "      <th>Order Date</th>\n",
       "      <th></th>\n",
       "      <th></th>\n",
       "      <th></th>\n",
       "      <th></th>\n",
       "      <th></th>\n",
       "      <th></th>\n",
       "      <th></th>\n",
       "      <th></th>\n",
       "      <th></th>\n",
       "      <th></th>\n",
       "      <th></th>\n",
       "      <th></th>\n",
       "      <th></th>\n",
       "      <th></th>\n",
       "      <th></th>\n",
       "      <th></th>\n",
       "      <th></th>\n",
       "      <th></th>\n",
       "      <th></th>\n",
       "      <th></th>\n",
       "    </tr>\n",
       "  </thead>\n",
       "  <tbody>\n",
       "    <tr>\n",
       "      <th>2016-11-08</th>\n",
       "      <td>1</td>\n",
       "      <td>CA-2016-152156</td>\n",
       "      <td>2016-11-11</td>\n",
       "      <td>Second Class</td>\n",
       "      <td>CG-12520</td>\n",
       "      <td>Claire Gute</td>\n",
       "      <td>Consumer</td>\n",
       "      <td>United States</td>\n",
       "      <td>Henderson</td>\n",
       "      <td>Kentucky</td>\n",
       "      <td>42420</td>\n",
       "      <td>South</td>\n",
       "      <td>FUR-BO-10001798</td>\n",
       "      <td>Furniture</td>\n",
       "      <td>Bookcases</td>\n",
       "      <td>Bush Somerset Collection Bookcase</td>\n",
       "      <td>261.9600</td>\n",
       "      <td>2</td>\n",
       "      <td>0.00</td>\n",
       "      <td>41.9136</td>\n",
       "    </tr>\n",
       "    <tr>\n",
       "      <th>2016-11-08</th>\n",
       "      <td>2</td>\n",
       "      <td>CA-2016-152156</td>\n",
       "      <td>2016-11-11</td>\n",
       "      <td>Second Class</td>\n",
       "      <td>CG-12520</td>\n",
       "      <td>Claire Gute</td>\n",
       "      <td>Consumer</td>\n",
       "      <td>United States</td>\n",
       "      <td>Henderson</td>\n",
       "      <td>Kentucky</td>\n",
       "      <td>42420</td>\n",
       "      <td>South</td>\n",
       "      <td>FUR-CH-10000454</td>\n",
       "      <td>Furniture</td>\n",
       "      <td>Chairs</td>\n",
       "      <td>Hon Deluxe Fabric Upholstered Stacking Chairs,...</td>\n",
       "      <td>731.9400</td>\n",
       "      <td>3</td>\n",
       "      <td>0.00</td>\n",
       "      <td>219.5820</td>\n",
       "    </tr>\n",
       "    <tr>\n",
       "      <th>2016-06-12</th>\n",
       "      <td>3</td>\n",
       "      <td>CA-2016-138688</td>\n",
       "      <td>2016-06-16</td>\n",
       "      <td>Second Class</td>\n",
       "      <td>DV-13045</td>\n",
       "      <td>Darrin Van Huff</td>\n",
       "      <td>Corporate</td>\n",
       "      <td>United States</td>\n",
       "      <td>Los Angeles</td>\n",
       "      <td>California</td>\n",
       "      <td>90036</td>\n",
       "      <td>West</td>\n",
       "      <td>OFF-LA-10000240</td>\n",
       "      <td>Office Supplies</td>\n",
       "      <td>Labels</td>\n",
       "      <td>Self-Adhesive Address Labels for Typewriters b...</td>\n",
       "      <td>14.6200</td>\n",
       "      <td>2</td>\n",
       "      <td>0.00</td>\n",
       "      <td>6.8714</td>\n",
       "    </tr>\n",
       "    <tr>\n",
       "      <th>2015-10-11</th>\n",
       "      <td>4</td>\n",
       "      <td>US-2015-108966</td>\n",
       "      <td>2015-10-18</td>\n",
       "      <td>Standard Class</td>\n",
       "      <td>SO-20335</td>\n",
       "      <td>Sean O'Donnell</td>\n",
       "      <td>Consumer</td>\n",
       "      <td>United States</td>\n",
       "      <td>Fort Lauderdale</td>\n",
       "      <td>Florida</td>\n",
       "      <td>33311</td>\n",
       "      <td>South</td>\n",
       "      <td>FUR-TA-10000577</td>\n",
       "      <td>Furniture</td>\n",
       "      <td>Tables</td>\n",
       "      <td>Bretford CR4500 Series Slim Rectangular Table</td>\n",
       "      <td>957.5775</td>\n",
       "      <td>5</td>\n",
       "      <td>0.45</td>\n",
       "      <td>-383.0310</td>\n",
       "    </tr>\n",
       "    <tr>\n",
       "      <th>2015-10-11</th>\n",
       "      <td>5</td>\n",
       "      <td>US-2015-108966</td>\n",
       "      <td>2015-10-18</td>\n",
       "      <td>Standard Class</td>\n",
       "      <td>SO-20335</td>\n",
       "      <td>Sean O'Donnell</td>\n",
       "      <td>Consumer</td>\n",
       "      <td>United States</td>\n",
       "      <td>Fort Lauderdale</td>\n",
       "      <td>Florida</td>\n",
       "      <td>33311</td>\n",
       "      <td>South</td>\n",
       "      <td>OFF-ST-10000760</td>\n",
       "      <td>Office Supplies</td>\n",
       "      <td>Storage</td>\n",
       "      <td>Eldon Fold 'N Roll Cart System</td>\n",
       "      <td>22.3680</td>\n",
       "      <td>2</td>\n",
       "      <td>0.20</td>\n",
       "      <td>2.5164</td>\n",
       "    </tr>\n",
       "    <tr>\n",
       "      <th>...</th>\n",
       "      <td>...</td>\n",
       "      <td>...</td>\n",
       "      <td>...</td>\n",
       "      <td>...</td>\n",
       "      <td>...</td>\n",
       "      <td>...</td>\n",
       "      <td>...</td>\n",
       "      <td>...</td>\n",
       "      <td>...</td>\n",
       "      <td>...</td>\n",
       "      <td>...</td>\n",
       "      <td>...</td>\n",
       "      <td>...</td>\n",
       "      <td>...</td>\n",
       "      <td>...</td>\n",
       "      <td>...</td>\n",
       "      <td>...</td>\n",
       "      <td>...</td>\n",
       "      <td>...</td>\n",
       "      <td>...</td>\n",
       "    </tr>\n",
       "    <tr>\n",
       "      <th>2014-01-21</th>\n",
       "      <td>9990</td>\n",
       "      <td>CA-2014-110422</td>\n",
       "      <td>2014-01-23</td>\n",
       "      <td>Second Class</td>\n",
       "      <td>TB-21400</td>\n",
       "      <td>Tom Boeckenhauer</td>\n",
       "      <td>Consumer</td>\n",
       "      <td>United States</td>\n",
       "      <td>Miami</td>\n",
       "      <td>Florida</td>\n",
       "      <td>33180</td>\n",
       "      <td>South</td>\n",
       "      <td>FUR-FU-10001889</td>\n",
       "      <td>Furniture</td>\n",
       "      <td>Furnishings</td>\n",
       "      <td>Ultra Door Pull Handle</td>\n",
       "      <td>25.2480</td>\n",
       "      <td>3</td>\n",
       "      <td>0.20</td>\n",
       "      <td>4.1028</td>\n",
       "    </tr>\n",
       "    <tr>\n",
       "      <th>2017-02-26</th>\n",
       "      <td>9991</td>\n",
       "      <td>CA-2017-121258</td>\n",
       "      <td>2017-03-03</td>\n",
       "      <td>Standard Class</td>\n",
       "      <td>DB-13060</td>\n",
       "      <td>Dave Brooks</td>\n",
       "      <td>Consumer</td>\n",
       "      <td>United States</td>\n",
       "      <td>Costa Mesa</td>\n",
       "      <td>California</td>\n",
       "      <td>92627</td>\n",
       "      <td>West</td>\n",
       "      <td>FUR-FU-10000747</td>\n",
       "      <td>Furniture</td>\n",
       "      <td>Furnishings</td>\n",
       "      <td>Tenex B1-RE Series Chair Mats for Low Pile Car...</td>\n",
       "      <td>91.9600</td>\n",
       "      <td>2</td>\n",
       "      <td>0.00</td>\n",
       "      <td>15.6332</td>\n",
       "    </tr>\n",
       "    <tr>\n",
       "      <th>2017-02-26</th>\n",
       "      <td>9992</td>\n",
       "      <td>CA-2017-121258</td>\n",
       "      <td>2017-03-03</td>\n",
       "      <td>Standard Class</td>\n",
       "      <td>DB-13060</td>\n",
       "      <td>Dave Brooks</td>\n",
       "      <td>Consumer</td>\n",
       "      <td>United States</td>\n",
       "      <td>Costa Mesa</td>\n",
       "      <td>California</td>\n",
       "      <td>92627</td>\n",
       "      <td>West</td>\n",
       "      <td>TEC-PH-10003645</td>\n",
       "      <td>Technology</td>\n",
       "      <td>Phones</td>\n",
       "      <td>Aastra 57i VoIP phone</td>\n",
       "      <td>258.5760</td>\n",
       "      <td>2</td>\n",
       "      <td>0.20</td>\n",
       "      <td>19.3932</td>\n",
       "    </tr>\n",
       "    <tr>\n",
       "      <th>2017-02-26</th>\n",
       "      <td>9993</td>\n",
       "      <td>CA-2017-121258</td>\n",
       "      <td>2017-03-03</td>\n",
       "      <td>Standard Class</td>\n",
       "      <td>DB-13060</td>\n",
       "      <td>Dave Brooks</td>\n",
       "      <td>Consumer</td>\n",
       "      <td>United States</td>\n",
       "      <td>Costa Mesa</td>\n",
       "      <td>California</td>\n",
       "      <td>92627</td>\n",
       "      <td>West</td>\n",
       "      <td>OFF-PA-10004041</td>\n",
       "      <td>Office Supplies</td>\n",
       "      <td>Paper</td>\n",
       "      <td>It's Hot Message Books with Stickers, 2 3/4\" x 5\"</td>\n",
       "      <td>29.6000</td>\n",
       "      <td>4</td>\n",
       "      <td>0.00</td>\n",
       "      <td>13.3200</td>\n",
       "    </tr>\n",
       "    <tr>\n",
       "      <th>2017-05-04</th>\n",
       "      <td>9994</td>\n",
       "      <td>CA-2017-119914</td>\n",
       "      <td>2017-05-09</td>\n",
       "      <td>Second Class</td>\n",
       "      <td>CC-12220</td>\n",
       "      <td>Chris Cortes</td>\n",
       "      <td>Consumer</td>\n",
       "      <td>United States</td>\n",
       "      <td>Westminster</td>\n",
       "      <td>California</td>\n",
       "      <td>92683</td>\n",
       "      <td>West</td>\n",
       "      <td>OFF-AP-10002684</td>\n",
       "      <td>Office Supplies</td>\n",
       "      <td>Appliances</td>\n",
       "      <td>Acco 7-Outlet Masterpiece Power Center, Wihtou...</td>\n",
       "      <td>243.1600</td>\n",
       "      <td>2</td>\n",
       "      <td>0.00</td>\n",
       "      <td>72.9480</td>\n",
       "    </tr>\n",
       "  </tbody>\n",
       "</table>\n",
       "<p>9994 rows × 20 columns</p>\n",
       "</div>"
      ],
      "text/plain": [
       "            Row ID        Order ID  Ship Date       Ship Mode Customer ID  \\\n",
       "Order Date                                                                  \n",
       "2016-11-08       1  CA-2016-152156 2016-11-11    Second Class    CG-12520   \n",
       "2016-11-08       2  CA-2016-152156 2016-11-11    Second Class    CG-12520   \n",
       "2016-06-12       3  CA-2016-138688 2016-06-16    Second Class    DV-13045   \n",
       "2015-10-11       4  US-2015-108966 2015-10-18  Standard Class    SO-20335   \n",
       "2015-10-11       5  US-2015-108966 2015-10-18  Standard Class    SO-20335   \n",
       "...            ...             ...        ...             ...         ...   \n",
       "2014-01-21    9990  CA-2014-110422 2014-01-23    Second Class    TB-21400   \n",
       "2017-02-26    9991  CA-2017-121258 2017-03-03  Standard Class    DB-13060   \n",
       "2017-02-26    9992  CA-2017-121258 2017-03-03  Standard Class    DB-13060   \n",
       "2017-02-26    9993  CA-2017-121258 2017-03-03  Standard Class    DB-13060   \n",
       "2017-05-04    9994  CA-2017-119914 2017-05-09    Second Class    CC-12220   \n",
       "\n",
       "               Customer Name    Segment        Country             City  \\\n",
       "Order Date                                                                \n",
       "2016-11-08       Claire Gute   Consumer  United States        Henderson   \n",
       "2016-11-08       Claire Gute   Consumer  United States        Henderson   \n",
       "2016-06-12   Darrin Van Huff  Corporate  United States      Los Angeles   \n",
       "2015-10-11    Sean O'Donnell   Consumer  United States  Fort Lauderdale   \n",
       "2015-10-11    Sean O'Donnell   Consumer  United States  Fort Lauderdale   \n",
       "...                      ...        ...            ...              ...   \n",
       "2014-01-21  Tom Boeckenhauer   Consumer  United States            Miami   \n",
       "2017-02-26       Dave Brooks   Consumer  United States       Costa Mesa   \n",
       "2017-02-26       Dave Brooks   Consumer  United States       Costa Mesa   \n",
       "2017-02-26       Dave Brooks   Consumer  United States       Costa Mesa   \n",
       "2017-05-04      Chris Cortes   Consumer  United States      Westminster   \n",
       "\n",
       "                 State  Postal Code Region       Product ID         Category  \\\n",
       "Order Date                                                                     \n",
       "2016-11-08    Kentucky        42420  South  FUR-BO-10001798        Furniture   \n",
       "2016-11-08    Kentucky        42420  South  FUR-CH-10000454        Furniture   \n",
       "2016-06-12  California        90036   West  OFF-LA-10000240  Office Supplies   \n",
       "2015-10-11     Florida        33311  South  FUR-TA-10000577        Furniture   \n",
       "2015-10-11     Florida        33311  South  OFF-ST-10000760  Office Supplies   \n",
       "...                ...          ...    ...              ...              ...   \n",
       "2014-01-21     Florida        33180  South  FUR-FU-10001889        Furniture   \n",
       "2017-02-26  California        92627   West  FUR-FU-10000747        Furniture   \n",
       "2017-02-26  California        92627   West  TEC-PH-10003645       Technology   \n",
       "2017-02-26  California        92627   West  OFF-PA-10004041  Office Supplies   \n",
       "2017-05-04  California        92683   West  OFF-AP-10002684  Office Supplies   \n",
       "\n",
       "           Sub-Category                                       Product Name  \\\n",
       "Order Date                                                                   \n",
       "2016-11-08    Bookcases                  Bush Somerset Collection Bookcase   \n",
       "2016-11-08       Chairs  Hon Deluxe Fabric Upholstered Stacking Chairs,...   \n",
       "2016-06-12       Labels  Self-Adhesive Address Labels for Typewriters b...   \n",
       "2015-10-11       Tables      Bretford CR4500 Series Slim Rectangular Table   \n",
       "2015-10-11      Storage                     Eldon Fold 'N Roll Cart System   \n",
       "...                 ...                                                ...   \n",
       "2014-01-21  Furnishings                             Ultra Door Pull Handle   \n",
       "2017-02-26  Furnishings  Tenex B1-RE Series Chair Mats for Low Pile Car...   \n",
       "2017-02-26       Phones                              Aastra 57i VoIP phone   \n",
       "2017-02-26        Paper  It's Hot Message Books with Stickers, 2 3/4\" x 5\"   \n",
       "2017-05-04   Appliances  Acco 7-Outlet Masterpiece Power Center, Wihtou...   \n",
       "\n",
       "               Sales  Quantity  Discount    Profit  \n",
       "Order Date                                          \n",
       "2016-11-08  261.9600         2      0.00   41.9136  \n",
       "2016-11-08  731.9400         3      0.00  219.5820  \n",
       "2016-06-12   14.6200         2      0.00    6.8714  \n",
       "2015-10-11  957.5775         5      0.45 -383.0310  \n",
       "2015-10-11   22.3680         2      0.20    2.5164  \n",
       "...              ...       ...       ...       ...  \n",
       "2014-01-21   25.2480         3      0.20    4.1028  \n",
       "2017-02-26   91.9600         2      0.00   15.6332  \n",
       "2017-02-26  258.5760         2      0.20   19.3932  \n",
       "2017-02-26   29.6000         4      0.00   13.3200  \n",
       "2017-05-04  243.1600         2      0.00   72.9480  \n",
       "\n",
       "[9994 rows x 20 columns]"
      ]
     },
     "execution_count": 2,
     "metadata": {},
     "output_type": "execute_result"
    }
   ],
   "source": [
    "df = pd.read_excel(\"DS3_C6_S4_TimeSeries_Sales_Data_Project.xls\", index_col = 'Order Date', parse_dates = True)\n",
    "df"
   ]
  },
  {
   "cell_type": "markdown",
   "id": "4cf38404",
   "metadata": {},
   "source": [
    "#### Resample"
   ]
  },
  {
   "cell_type": "code",
   "execution_count": 3,
   "id": "b850c176",
   "metadata": {},
   "outputs": [
    {
     "data": {
      "text/html": [
       "<div>\n",
       "<style scoped>\n",
       "    .dataframe tbody tr th:only-of-type {\n",
       "        vertical-align: middle;\n",
       "    }\n",
       "\n",
       "    .dataframe tbody tr th {\n",
       "        vertical-align: top;\n",
       "    }\n",
       "\n",
       "    .dataframe thead th {\n",
       "        text-align: right;\n",
       "    }\n",
       "</style>\n",
       "<table border=\"1\" class=\"dataframe\">\n",
       "  <thead>\n",
       "    <tr style=\"text-align: right;\">\n",
       "      <th></th>\n",
       "      <th>Row ID</th>\n",
       "      <th>Postal Code</th>\n",
       "      <th>Sales</th>\n",
       "      <th>Quantity</th>\n",
       "      <th>Discount</th>\n",
       "      <th>Profit</th>\n",
       "    </tr>\n",
       "    <tr>\n",
       "      <th>Order Date</th>\n",
       "      <th></th>\n",
       "      <th></th>\n",
       "      <th></th>\n",
       "      <th></th>\n",
       "      <th></th>\n",
       "      <th></th>\n",
       "    </tr>\n",
       "  </thead>\n",
       "  <tbody>\n",
       "    <tr>\n",
       "      <th>2014-01-31</th>\n",
       "      <td>4381.974684</td>\n",
       "      <td>54965.784810</td>\n",
       "      <td>180.213861</td>\n",
       "      <td>3.594937</td>\n",
       "      <td>0.126582</td>\n",
       "      <td>31.015072</td>\n",
       "    </tr>\n",
       "    <tr>\n",
       "      <th>2014-02-28</th>\n",
       "      <td>5918.152174</td>\n",
       "      <td>66299.456522</td>\n",
       "      <td>98.258522</td>\n",
       "      <td>3.456522</td>\n",
       "      <td>0.176087</td>\n",
       "      <td>18.745835</td>\n",
       "    </tr>\n",
       "    <tr>\n",
       "      <th>2014-03-31</th>\n",
       "      <td>5551.433121</td>\n",
       "      <td>52958.840764</td>\n",
       "      <td>354.719803</td>\n",
       "      <td>3.726115</td>\n",
       "      <td>0.167516</td>\n",
       "      <td>3.176624</td>\n",
       "    </tr>\n",
       "    <tr>\n",
       "      <th>2014-04-30</th>\n",
       "      <td>5115.740741</td>\n",
       "      <td>57213.533333</td>\n",
       "      <td>209.595148</td>\n",
       "      <td>3.970370</td>\n",
       "      <td>0.110000</td>\n",
       "      <td>25.843224</td>\n",
       "    </tr>\n",
       "    <tr>\n",
       "      <th>2014-05-31</th>\n",
       "      <td>5014.000000</td>\n",
       "      <td>53260.688525</td>\n",
       "      <td>193.838418</td>\n",
       "      <td>3.819672</td>\n",
       "      <td>0.155328</td>\n",
       "      <td>22.448439</td>\n",
       "    </tr>\n",
       "    <tr>\n",
       "      <th>2014-06-30</th>\n",
       "      <td>3642.918519</td>\n",
       "      <td>50573.592593</td>\n",
       "      <td>256.260204</td>\n",
       "      <td>3.859259</td>\n",
       "      <td>0.172000</td>\n",
       "      <td>36.863144</td>\n",
       "    </tr>\n",
       "    <tr>\n",
       "      <th>2014-07-31</th>\n",
       "      <td>5219.601399</td>\n",
       "      <td>63260.062937</td>\n",
       "      <td>237.387364</td>\n",
       "      <td>3.846154</td>\n",
       "      <td>0.171678</td>\n",
       "      <td>-5.884494</td>\n",
       "    </tr>\n",
       "    <tr>\n",
       "      <th>2014-08-31</th>\n",
       "      <td>4766.673203</td>\n",
       "      <td>56394.679739</td>\n",
       "      <td>182.414827</td>\n",
       "      <td>3.980392</td>\n",
       "      <td>0.131046</td>\n",
       "      <td>34.758856</td>\n",
       "    </tr>\n",
       "    <tr>\n",
       "      <th>2014-09-30</th>\n",
       "      <td>4846.044776</td>\n",
       "      <td>54185.869403</td>\n",
       "      <td>305.139369</td>\n",
       "      <td>3.731343</td>\n",
       "      <td>0.159963</td>\n",
       "      <td>31.074998</td>\n",
       "    </tr>\n",
       "    <tr>\n",
       "      <th>2014-10-31</th>\n",
       "      <td>5444.371069</td>\n",
       "      <td>61030.880503</td>\n",
       "      <td>197.820082</td>\n",
       "      <td>3.603774</td>\n",
       "      <td>0.160063</td>\n",
       "      <td>21.687153</td>\n",
       "    </tr>\n",
       "    <tr>\n",
       "      <th>2014-11-30</th>\n",
       "      <td>5049.849057</td>\n",
       "      <td>56967.141509</td>\n",
       "      <td>247.260115</td>\n",
       "      <td>3.833333</td>\n",
       "      <td>0.151164</td>\n",
       "      <td>29.220525</td>\n",
       "    </tr>\n",
       "    <tr>\n",
       "      <th>2014-12-31</th>\n",
       "      <td>4942.269784</td>\n",
       "      <td>59351.517986</td>\n",
       "      <td>250.164103</td>\n",
       "      <td>3.881295</td>\n",
       "      <td>0.190827</td>\n",
       "      <td>32.315000</td>\n",
       "    </tr>\n",
       "    <tr>\n",
       "      <th>2015-01-31</th>\n",
       "      <td>5015.431034</td>\n",
       "      <td>53242.689655</td>\n",
       "      <td>313.346131</td>\n",
       "      <td>4.068966</td>\n",
       "      <td>0.177931</td>\n",
       "      <td>-56.569086</td>\n",
       "    </tr>\n",
       "    <tr>\n",
       "      <th>2015-02-28</th>\n",
       "      <td>4799.140625</td>\n",
       "      <td>51190.875000</td>\n",
       "      <td>186.740797</td>\n",
       "      <td>3.734375</td>\n",
       "      <td>0.129688</td>\n",
       "      <td>43.966419</td>\n",
       "    </tr>\n",
       "    <tr>\n",
       "      <th>2015-03-31</th>\n",
       "      <td>5040.007246</td>\n",
       "      <td>54583.695652</td>\n",
       "      <td>280.625014</td>\n",
       "      <td>3.731884</td>\n",
       "      <td>0.140145</td>\n",
       "      <td>70.522448</td>\n",
       "    </tr>\n",
       "    <tr>\n",
       "      <th>2015-04-30</th>\n",
       "      <td>4834.131250</td>\n",
       "      <td>54632.381250</td>\n",
       "      <td>213.720053</td>\n",
       "      <td>3.393750</td>\n",
       "      <td>0.175938</td>\n",
       "      <td>26.171851</td>\n",
       "    </tr>\n",
       "    <tr>\n",
       "      <th>2015-05-31</th>\n",
       "      <td>5571.294521</td>\n",
       "      <td>53264.431507</td>\n",
       "      <td>206.381414</td>\n",
       "      <td>3.938356</td>\n",
       "      <td>0.166096</td>\n",
       "      <td>31.971705</td>\n",
       "    </tr>\n",
       "    <tr>\n",
       "      <th>2015-06-30</th>\n",
       "      <td>5574.637681</td>\n",
       "      <td>51166.862319</td>\n",
       "      <td>179.690522</td>\n",
       "      <td>3.521739</td>\n",
       "      <td>0.172464</td>\n",
       "      <td>24.170704</td>\n",
       "    </tr>\n",
       "    <tr>\n",
       "      <th>2015-07-31</th>\n",
       "      <td>4175.771429</td>\n",
       "      <td>45279.128571</td>\n",
       "      <td>205.466607</td>\n",
       "      <td>3.978571</td>\n",
       "      <td>0.170357</td>\n",
       "      <td>23.490345</td>\n",
       "    </tr>\n",
       "    <tr>\n",
       "      <th>2015-08-31</th>\n",
       "      <td>5198.327044</td>\n",
       "      <td>54095.301887</td>\n",
       "      <td>232.064982</td>\n",
       "      <td>3.761006</td>\n",
       "      <td>0.156415</td>\n",
       "      <td>33.684330</td>\n",
       "    </tr>\n",
       "    <tr>\n",
       "      <th>2015-09-30</th>\n",
       "      <td>4954.996587</td>\n",
       "      <td>47108.924915</td>\n",
       "      <td>220.463884</td>\n",
       "      <td>3.706485</td>\n",
       "      <td>0.140956</td>\n",
       "      <td>28.017620</td>\n",
       "    </tr>\n",
       "    <tr>\n",
       "      <th>2015-10-31</th>\n",
       "      <td>4714.692771</td>\n",
       "      <td>62165.867470</td>\n",
       "      <td>189.186286</td>\n",
       "      <td>3.801205</td>\n",
       "      <td>0.162349</td>\n",
       "      <td>16.972084</td>\n",
       "    </tr>\n",
       "    <tr>\n",
       "      <th>2015-11-30</th>\n",
       "      <td>5061.206790</td>\n",
       "      <td>50986.006173</td>\n",
       "      <td>234.483221</td>\n",
       "      <td>4.043210</td>\n",
       "      <td>0.162315</td>\n",
       "      <td>38.502433</td>\n",
       "    </tr>\n",
       "    <tr>\n",
       "      <th>2015-12-31</th>\n",
       "      <td>4678.920886</td>\n",
       "      <td>57438.113924</td>\n",
       "      <td>237.087092</td>\n",
       "      <td>3.806962</td>\n",
       "      <td>0.137247</td>\n",
       "      <td>25.370145</td>\n",
       "    </tr>\n",
       "    <tr>\n",
       "      <th>2016-01-31</th>\n",
       "      <td>5370.471910</td>\n",
       "      <td>48963.303371</td>\n",
       "      <td>208.342596</td>\n",
       "      <td>4.022472</td>\n",
       "      <td>0.132584</td>\n",
       "      <td>31.739588</td>\n",
       "    </tr>\n",
       "    <tr>\n",
       "      <th>2016-02-29</th>\n",
       "      <td>5164.614458</td>\n",
       "      <td>44478.096386</td>\n",
       "      <td>276.853193</td>\n",
       "      <td>3.686747</td>\n",
       "      <td>0.096386</td>\n",
       "      <td>60.296139</td>\n",
       "    </tr>\n",
       "    <tr>\n",
       "      <th>2016-03-31</th>\n",
       "      <td>5003.104294</td>\n",
       "      <td>50375.723926</td>\n",
       "      <td>317.275307</td>\n",
       "      <td>3.552147</td>\n",
       "      <td>0.190920</td>\n",
       "      <td>22.159313</td>\n",
       "    </tr>\n",
       "    <tr>\n",
       "      <th>2016-04-30</th>\n",
       "      <td>4154.941176</td>\n",
       "      <td>50256.500000</td>\n",
       "      <td>227.941406</td>\n",
       "      <td>3.735294</td>\n",
       "      <td>0.155882</td>\n",
       "      <td>17.516558</td>\n",
       "    </tr>\n",
       "    <tr>\n",
       "      <th>2016-05-31</th>\n",
       "      <td>4894.795556</td>\n",
       "      <td>49675.311111</td>\n",
       "      <td>253.278791</td>\n",
       "      <td>3.835556</td>\n",
       "      <td>0.184444</td>\n",
       "      <td>38.498428</td>\n",
       "    </tr>\n",
       "    <tr>\n",
       "      <th>2016-06-30</th>\n",
       "      <td>4642.618090</td>\n",
       "      <td>53754.296482</td>\n",
       "      <td>202.736352</td>\n",
       "      <td>3.728643</td>\n",
       "      <td>0.138693</td>\n",
       "      <td>23.871247</td>\n",
       "    </tr>\n",
       "    <tr>\n",
       "      <th>2016-07-31</th>\n",
       "      <td>4880.492537</td>\n",
       "      <td>55905.597015</td>\n",
       "      <td>195.333149</td>\n",
       "      <td>3.771144</td>\n",
       "      <td>0.159453</td>\n",
       "      <td>22.054119</td>\n",
       "    </tr>\n",
       "    <tr>\n",
       "      <th>2016-08-31</th>\n",
       "      <td>4954.505682</td>\n",
       "      <td>56682.664773</td>\n",
       "      <td>176.791899</td>\n",
       "      <td>3.937500</td>\n",
       "      <td>0.185625</td>\n",
       "      <td>11.716303</td>\n",
       "    </tr>\n",
       "    <tr>\n",
       "      <th>2016-09-30</th>\n",
       "      <td>5207.617080</td>\n",
       "      <td>56861.865014</td>\n",
       "      <td>202.231474</td>\n",
       "      <td>3.625344</td>\n",
       "      <td>0.149421</td>\n",
       "      <td>25.698781</td>\n",
       "    </tr>\n",
       "    <tr>\n",
       "      <th>2016-10-31</th>\n",
       "      <td>5015.239796</td>\n",
       "      <td>55887.188776</td>\n",
       "      <td>304.529311</td>\n",
       "      <td>3.913265</td>\n",
       "      <td>0.147194</td>\n",
       "      <td>82.873176</td>\n",
       "    </tr>\n",
       "    <tr>\n",
       "      <th>2016-11-30</th>\n",
       "      <td>4812.451351</td>\n",
       "      <td>55577.635135</td>\n",
       "      <td>214.626935</td>\n",
       "      <td>3.800000</td>\n",
       "      <td>0.157622</td>\n",
       "      <td>10.841642</td>\n",
       "    </tr>\n",
       "    <tr>\n",
       "      <th>2016-12-31</th>\n",
       "      <td>5165.289773</td>\n",
       "      <td>59526.877841</td>\n",
       "      <td>275.565463</td>\n",
       "      <td>4.017045</td>\n",
       "      <td>0.135426</td>\n",
       "      <td>50.810538</td>\n",
       "    </tr>\n",
       "    <tr>\n",
       "      <th>2017-01-31</th>\n",
       "      <td>5466.922581</td>\n",
       "      <td>60203.812903</td>\n",
       "      <td>283.686284</td>\n",
       "      <td>3.851613</td>\n",
       "      <td>0.161290</td>\n",
       "      <td>46.067349</td>\n",
       "    </tr>\n",
       "    <tr>\n",
       "      <th>2017-02-28</th>\n",
       "      <td>5546.766355</td>\n",
       "      <td>63492.308411</td>\n",
       "      <td>189.730219</td>\n",
       "      <td>3.392523</td>\n",
       "      <td>0.181963</td>\n",
       "      <td>15.082916</td>\n",
       "    </tr>\n",
       "    <tr>\n",
       "      <th>2017-03-31</th>\n",
       "      <td>5436.945378</td>\n",
       "      <td>58547.798319</td>\n",
       "      <td>247.362827</td>\n",
       "      <td>3.718487</td>\n",
       "      <td>0.130840</td>\n",
       "      <td>61.982737</td>\n",
       "    </tr>\n",
       "    <tr>\n",
       "      <th>2017-04-30</th>\n",
       "      <td>4670.004926</td>\n",
       "      <td>49940.719212</td>\n",
       "      <td>179.909045</td>\n",
       "      <td>3.610837</td>\n",
       "      <td>0.194433</td>\n",
       "      <td>4.597488</td>\n",
       "    </tr>\n",
       "    <tr>\n",
       "      <th>2017-05-31</th>\n",
       "      <td>5565.752066</td>\n",
       "      <td>58626.958678</td>\n",
       "      <td>182.897150</td>\n",
       "      <td>3.665289</td>\n",
       "      <td>0.152438</td>\n",
       "      <td>26.209020</td>\n",
       "    </tr>\n",
       "    <tr>\n",
       "      <th>2017-06-30</th>\n",
       "      <td>4782.371429</td>\n",
       "      <td>55437.706122</td>\n",
       "      <td>216.251942</td>\n",
       "      <td>3.800000</td>\n",
       "      <td>0.171918</td>\n",
       "      <td>33.564636</td>\n",
       "    </tr>\n",
       "    <tr>\n",
       "      <th>2017-07-31</th>\n",
       "      <td>5237.615044</td>\n",
       "      <td>52678.106195</td>\n",
       "      <td>200.285027</td>\n",
       "      <td>3.716814</td>\n",
       "      <td>0.140044</td>\n",
       "      <td>30.763811</td>\n",
       "    </tr>\n",
       "    <tr>\n",
       "      <th>2017-08-31</th>\n",
       "      <td>5234.426606</td>\n",
       "      <td>62024.798165</td>\n",
       "      <td>289.545358</td>\n",
       "      <td>4.055046</td>\n",
       "      <td>0.143578</td>\n",
       "      <td>41.472274</td>\n",
       "    </tr>\n",
       "    <tr>\n",
       "      <th>2017-09-30</th>\n",
       "      <td>5138.204793</td>\n",
       "      <td>54822.122004</td>\n",
       "      <td>191.430614</td>\n",
       "      <td>3.616558</td>\n",
       "      <td>0.147386</td>\n",
       "      <td>23.946744</td>\n",
       "    </tr>\n",
       "    <tr>\n",
       "      <th>2017-10-31</th>\n",
       "      <td>4741.120805</td>\n",
       "      <td>55741.432886</td>\n",
       "      <td>260.996387</td>\n",
       "      <td>3.802013</td>\n",
       "      <td>0.174228</td>\n",
       "      <td>31.125086</td>\n",
       "    </tr>\n",
       "    <tr>\n",
       "      <th>2017-11-30</th>\n",
       "      <td>5011.145969</td>\n",
       "      <td>55178.810458</td>\n",
       "      <td>258.056264</td>\n",
       "      <td>4.008715</td>\n",
       "      <td>0.160980</td>\n",
       "      <td>21.111337</td>\n",
       "    </tr>\n",
       "    <tr>\n",
       "      <th>2017-12-31</th>\n",
       "      <td>4871.891775</td>\n",
       "      <td>55398.556277</td>\n",
       "      <td>181.448742</td>\n",
       "      <td>3.729437</td>\n",
       "      <td>0.146580</td>\n",
       "      <td>18.362223</td>\n",
       "    </tr>\n",
       "  </tbody>\n",
       "</table>\n",
       "</div>"
      ],
      "text/plain": [
       "                 Row ID   Postal Code       Sales  Quantity  Discount  \\\n",
       "Order Date                                                              \n",
       "2014-01-31  4381.974684  54965.784810  180.213861  3.594937  0.126582   \n",
       "2014-02-28  5918.152174  66299.456522   98.258522  3.456522  0.176087   \n",
       "2014-03-31  5551.433121  52958.840764  354.719803  3.726115  0.167516   \n",
       "2014-04-30  5115.740741  57213.533333  209.595148  3.970370  0.110000   \n",
       "2014-05-31  5014.000000  53260.688525  193.838418  3.819672  0.155328   \n",
       "2014-06-30  3642.918519  50573.592593  256.260204  3.859259  0.172000   \n",
       "2014-07-31  5219.601399  63260.062937  237.387364  3.846154  0.171678   \n",
       "2014-08-31  4766.673203  56394.679739  182.414827  3.980392  0.131046   \n",
       "2014-09-30  4846.044776  54185.869403  305.139369  3.731343  0.159963   \n",
       "2014-10-31  5444.371069  61030.880503  197.820082  3.603774  0.160063   \n",
       "2014-11-30  5049.849057  56967.141509  247.260115  3.833333  0.151164   \n",
       "2014-12-31  4942.269784  59351.517986  250.164103  3.881295  0.190827   \n",
       "2015-01-31  5015.431034  53242.689655  313.346131  4.068966  0.177931   \n",
       "2015-02-28  4799.140625  51190.875000  186.740797  3.734375  0.129688   \n",
       "2015-03-31  5040.007246  54583.695652  280.625014  3.731884  0.140145   \n",
       "2015-04-30  4834.131250  54632.381250  213.720053  3.393750  0.175938   \n",
       "2015-05-31  5571.294521  53264.431507  206.381414  3.938356  0.166096   \n",
       "2015-06-30  5574.637681  51166.862319  179.690522  3.521739  0.172464   \n",
       "2015-07-31  4175.771429  45279.128571  205.466607  3.978571  0.170357   \n",
       "2015-08-31  5198.327044  54095.301887  232.064982  3.761006  0.156415   \n",
       "2015-09-30  4954.996587  47108.924915  220.463884  3.706485  0.140956   \n",
       "2015-10-31  4714.692771  62165.867470  189.186286  3.801205  0.162349   \n",
       "2015-11-30  5061.206790  50986.006173  234.483221  4.043210  0.162315   \n",
       "2015-12-31  4678.920886  57438.113924  237.087092  3.806962  0.137247   \n",
       "2016-01-31  5370.471910  48963.303371  208.342596  4.022472  0.132584   \n",
       "2016-02-29  5164.614458  44478.096386  276.853193  3.686747  0.096386   \n",
       "2016-03-31  5003.104294  50375.723926  317.275307  3.552147  0.190920   \n",
       "2016-04-30  4154.941176  50256.500000  227.941406  3.735294  0.155882   \n",
       "2016-05-31  4894.795556  49675.311111  253.278791  3.835556  0.184444   \n",
       "2016-06-30  4642.618090  53754.296482  202.736352  3.728643  0.138693   \n",
       "2016-07-31  4880.492537  55905.597015  195.333149  3.771144  0.159453   \n",
       "2016-08-31  4954.505682  56682.664773  176.791899  3.937500  0.185625   \n",
       "2016-09-30  5207.617080  56861.865014  202.231474  3.625344  0.149421   \n",
       "2016-10-31  5015.239796  55887.188776  304.529311  3.913265  0.147194   \n",
       "2016-11-30  4812.451351  55577.635135  214.626935  3.800000  0.157622   \n",
       "2016-12-31  5165.289773  59526.877841  275.565463  4.017045  0.135426   \n",
       "2017-01-31  5466.922581  60203.812903  283.686284  3.851613  0.161290   \n",
       "2017-02-28  5546.766355  63492.308411  189.730219  3.392523  0.181963   \n",
       "2017-03-31  5436.945378  58547.798319  247.362827  3.718487  0.130840   \n",
       "2017-04-30  4670.004926  49940.719212  179.909045  3.610837  0.194433   \n",
       "2017-05-31  5565.752066  58626.958678  182.897150  3.665289  0.152438   \n",
       "2017-06-30  4782.371429  55437.706122  216.251942  3.800000  0.171918   \n",
       "2017-07-31  5237.615044  52678.106195  200.285027  3.716814  0.140044   \n",
       "2017-08-31  5234.426606  62024.798165  289.545358  4.055046  0.143578   \n",
       "2017-09-30  5138.204793  54822.122004  191.430614  3.616558  0.147386   \n",
       "2017-10-31  4741.120805  55741.432886  260.996387  3.802013  0.174228   \n",
       "2017-11-30  5011.145969  55178.810458  258.056264  4.008715  0.160980   \n",
       "2017-12-31  4871.891775  55398.556277  181.448742  3.729437  0.146580   \n",
       "\n",
       "               Profit  \n",
       "Order Date             \n",
       "2014-01-31  31.015072  \n",
       "2014-02-28  18.745835  \n",
       "2014-03-31   3.176624  \n",
       "2014-04-30  25.843224  \n",
       "2014-05-31  22.448439  \n",
       "2014-06-30  36.863144  \n",
       "2014-07-31  -5.884494  \n",
       "2014-08-31  34.758856  \n",
       "2014-09-30  31.074998  \n",
       "2014-10-31  21.687153  \n",
       "2014-11-30  29.220525  \n",
       "2014-12-31  32.315000  \n",
       "2015-01-31 -56.569086  \n",
       "2015-02-28  43.966419  \n",
       "2015-03-31  70.522448  \n",
       "2015-04-30  26.171851  \n",
       "2015-05-31  31.971705  \n",
       "2015-06-30  24.170704  \n",
       "2015-07-31  23.490345  \n",
       "2015-08-31  33.684330  \n",
       "2015-09-30  28.017620  \n",
       "2015-10-31  16.972084  \n",
       "2015-11-30  38.502433  \n",
       "2015-12-31  25.370145  \n",
       "2016-01-31  31.739588  \n",
       "2016-02-29  60.296139  \n",
       "2016-03-31  22.159313  \n",
       "2016-04-30  17.516558  \n",
       "2016-05-31  38.498428  \n",
       "2016-06-30  23.871247  \n",
       "2016-07-31  22.054119  \n",
       "2016-08-31  11.716303  \n",
       "2016-09-30  25.698781  \n",
       "2016-10-31  82.873176  \n",
       "2016-11-30  10.841642  \n",
       "2016-12-31  50.810538  \n",
       "2017-01-31  46.067349  \n",
       "2017-02-28  15.082916  \n",
       "2017-03-31  61.982737  \n",
       "2017-04-30   4.597488  \n",
       "2017-05-31  26.209020  \n",
       "2017-06-30  33.564636  \n",
       "2017-07-31  30.763811  \n",
       "2017-08-31  41.472274  \n",
       "2017-09-30  23.946744  \n",
       "2017-10-31  31.125086  \n",
       "2017-11-30  21.111337  \n",
       "2017-12-31  18.362223  "
      ]
     },
     "execution_count": 3,
     "metadata": {},
     "output_type": "execute_result"
    }
   ],
   "source": [
    "df_resample = df.resample('M').mean()\n",
    "df_resample"
   ]
  },
  {
   "cell_type": "code",
   "execution_count": 4,
   "id": "83cc41db",
   "metadata": {},
   "outputs": [
    {
     "data": {
      "text/plain": [
       "Order Date\n",
       "2014-01-31    180.213861\n",
       "2014-02-28     98.258522\n",
       "2014-03-31    354.719803\n",
       "2014-04-30    209.595148\n",
       "2014-05-31    193.838418\n",
       "2014-06-30    256.260204\n",
       "2014-07-31    237.387364\n",
       "2014-08-31    182.414827\n",
       "2014-09-30    305.139369\n",
       "2014-10-31    197.820082\n",
       "2014-11-30    247.260115\n",
       "2014-12-31    250.164103\n",
       "2015-01-31    313.346131\n",
       "2015-02-28    186.740797\n",
       "2015-03-31    280.625014\n",
       "2015-04-30    213.720053\n",
       "2015-05-31    206.381414\n",
       "2015-06-30    179.690522\n",
       "2015-07-31    205.466607\n",
       "2015-08-31    232.064982\n",
       "2015-09-30    220.463884\n",
       "2015-10-31    189.186286\n",
       "2015-11-30    234.483221\n",
       "2015-12-31    237.087092\n",
       "2016-01-31    208.342596\n",
       "2016-02-29    276.853193\n",
       "2016-03-31    317.275307\n",
       "2016-04-30    227.941406\n",
       "2016-05-31    253.278791\n",
       "2016-06-30    202.736352\n",
       "2016-07-31    195.333149\n",
       "2016-08-31    176.791899\n",
       "2016-09-30    202.231474\n",
       "2016-10-31    304.529311\n",
       "2016-11-30    214.626935\n",
       "2016-12-31    275.565463\n",
       "2017-01-31    283.686284\n",
       "2017-02-28    189.730219\n",
       "2017-03-31    247.362827\n",
       "2017-04-30    179.909045\n",
       "2017-05-31    182.897150\n",
       "2017-06-30    216.251942\n",
       "2017-07-31    200.285027\n",
       "2017-08-31    289.545358\n",
       "2017-09-30    191.430614\n",
       "2017-10-31    260.996387\n",
       "2017-11-30    258.056264\n",
       "2017-12-31    181.448742\n",
       "Freq: M, Name: Sales, dtype: float64"
      ]
     },
     "execution_count": 4,
     "metadata": {},
     "output_type": "execute_result"
    }
   ],
   "source": [
    "df_m = df_resample.Sales\n",
    "df_m"
   ]
  },
  {
   "cell_type": "markdown",
   "id": "0176c832",
   "metadata": {},
   "source": [
    "#### Seasonal Decompose"
   ]
  },
  {
   "cell_type": "code",
   "execution_count": 5,
   "id": "a012ff63",
   "metadata": {},
   "outputs": [],
   "source": [
    "temp = df_m.values\n",
    "\n",
    "decom = seasonal_decompose(temp, period = 12)\n",
    "\n",
    "d_trend = decom.trend\n",
    "d_seasonal = decom.seasonal\n",
    "d_residual = decom.resid"
   ]
  },
  {
   "cell_type": "code",
   "execution_count": 6,
   "id": "a66568cf",
   "metadata": {},
   "outputs": [
    {
     "data": {
      "text/plain": [
       "<matplotlib.legend.Legend at 0x16a17980640>"
      ]
     },
     "execution_count": 6,
     "metadata": {},
     "output_type": "execute_result"
    },
    {
     "data": {
      "image/png": "[encoded data removed]",
      "text/plain": [
       "<Figure size 864x720 with 4 Axes>"
      ]
     },
     "metadata": {
      "needs_background": "light"
     },
     "output_type": "display_data"
    }
   ],
   "source": [
    "# Plot the components\n",
    "\n",
    "fig, ax = plt.subplots(4,1, figsize = (12,10))\n",
    "\n",
    "plt.subplot(411)\n",
    "plt.plot(temp, label = 'Train_data')\n",
    "plt.legend()\n",
    "\n",
    "plt.subplot(412)\n",
    "plt.plot(d_trend, label = 'Trend', color = \"magenta\")\n",
    "plt.legend()\n",
    "\n",
    "plt.subplot(413)\n",
    "plt.plot(d_seasonal, label = 'Seasonal', color = 'black')\n",
    "plt.legend()\n",
    "\n",
    "plt.subplot(414)\n",
    "plt.plot(d_residual, label = 'Residual / Irregular', color = 'brown')\n",
    "plt.legend()"
   ]
  },
  {
   "cell_type": "markdown",
   "id": "78d21b74",
   "metadata": {},
   "source": [
    "#### Splitting"
   ]
  },
  {
   "cell_type": "code",
   "execution_count": 7,
   "id": "40b50a40",
   "metadata": {},
   "outputs": [
    {
     "name": "stdout",
     "output_type": "stream",
     "text": [
      "train = 33, test = 15\n"
     ]
    }
   ],
   "source": [
    "sd = int(len(df_m)*0.7)\n",
    "train_part = df_resample[:sd]\n",
    "test_part = df_resample[sd:]\n",
    "print('train = {}, test = {}'.format(len(train_part), len(test_part)))"
   ]
  },
  {
   "cell_type": "code",
   "execution_count": 8,
   "id": "12986072",
   "metadata": {},
   "outputs": [
    {
     "name": "stdout",
     "output_type": "stream",
     "text": [
      "train = 33, test = 15\n"
     ]
    }
   ],
   "source": [
    "train = train_part.Sales\n",
    "test = test_part.Sales\n",
    "print('train = {}, test = {}'.format(len(train), len(test)))"
   ]
  },
  {
   "cell_type": "markdown",
   "id": "c32c2cab",
   "metadata": {},
   "source": [
    "#### Stationarity"
   ]
  },
  {
   "cell_type": "code",
   "execution_count": 9,
   "id": "569950fa",
   "metadata": {},
   "outputs": [],
   "source": [
    "def checkstationarity(data):\n",
    "    pvalue = adfuller(data)[1]\n",
    "    print(pvalue)\n",
    "    if pvalue < 0.05:\n",
    "        val = 'Data is Stationary. Proceed to moedl building'\n",
    "    else:\n",
    "        val = 'Data is not Stationary. Diff. the data before model building'\n",
    "    return(val)"
   ]
  },
  {
   "cell_type": "code",
   "execution_count": 10,
   "id": "792118d4",
   "metadata": {},
   "outputs": [
    {
     "name": "stdout",
     "output_type": "stream",
     "text": [
      "0.009835621537945706\n"
     ]
    },
    {
     "data": {
      "text/plain": [
       "'Data is Stationary. Proceed to moedl building'"
      ]
     },
     "execution_count": 10,
     "metadata": {},
     "output_type": "execute_result"
    }
   ],
   "source": [
    "checkstationarity(train)"
   ]
  },
  {
   "cell_type": "code",
   "execution_count": 11,
   "id": "f751ba02",
   "metadata": {},
   "outputs": [
    {
     "name": "stdout",
     "output_type": "stream",
     "text": [
      "0.06633413715929753\n"
     ]
    },
    {
     "data": {
      "text/plain": [
       "'Data is not Stationary. Diff. the data before model building'"
      ]
     },
     "execution_count": 11,
     "metadata": {},
     "output_type": "execute_result"
    }
   ],
   "source": [
    "checkstationarity(test)"
   ]
  },
  {
   "cell_type": "markdown",
   "id": "6bb7983b",
   "metadata": {},
   "source": [
    "#### Plotting ACF and PACF"
   ]
  },
  {
   "cell_type": "code",
   "execution_count": 12,
   "id": "5346f2f8",
   "metadata": {},
   "outputs": [
    {
     "data": {
      "image/png": "[encoded data removed]",
      "text/plain": [
       "<Figure size 1080x576 with 2 Axes>"
      ]
     },
     "metadata": {
      "needs_background": "light"
     },
     "output_type": "display_data"
    }
   ],
   "source": [
    "fig, ax = plt.subplots(1,2, figsize = (15,8))\n",
    "\n",
    "plot_acf(df_m, lags = 20, ax = ax[0], color = 'brown');\n",
    "plot_pacf(df_m, lags = 20, ax = ax[1], color = 'brown');"
   ]
  },
  {
   "cell_type": "code",
   "execution_count": 13,
   "id": "16b3bba9",
   "metadata": {},
   "outputs": [],
   "source": [
    "# p = 0(1)\n",
    "# q = 0,1,2,3,4,5(6)"
   ]
  },
  {
   "cell_type": "markdown",
   "id": "bf8f927c",
   "metadata": {},
   "source": [
    "#### ARMA and ARIMA Model"
   ]
  },
  {
   "cell_type": "code",
   "execution_count": 14,
   "id": "cd72f8d7",
   "metadata": {},
   "outputs": [],
   "source": [
    "def fun(data,data1,p,d,q):\n",
    "  \n",
    "    train = pd.DataFrame(data)\n",
    "    test = pd.DataFrame(data1)\n",
    "    #print(test)\n",
    "    m1 = ARIMA(train, order = (p,d,q)).fit()\n",
    "    global aic1,bic1,mse1\n",
    "    aic1, bic1 = m1.aic, m1.bic\n",
    "    \n",
    "    f1 = m1.predict(0,len(test)-1)\n",
    "    actual = []\n",
    "    pred = []\n",
    "    for i in range(len(f1)):\n",
    "        actual.append(test.Sales[i])\n",
    "        pred.append(f1[i])\n",
    "    df1 = pd.DataFrame({'actual':actual, 'predicted':pred})\n",
    "    \n",
    "    mse1 = mean_squared_error(df1.actual, df1.predicted)\n",
    "\n",
    "    return aic1, bic1, mse1"
   ]
  },
  {
   "cell_type": "code",
   "execution_count": 15,
   "id": "41d3d24f",
   "metadata": {
    "scrolled": true
   },
   "outputs": [
    {
     "name": "stdout",
     "output_type": "stream",
     "text": [
      "p=0  d=0  q=0 AIC = 355.0895506469015, BIC = 358.08256576983445  MSE = 1865.689 ,  Rmse = 43.194\n",
      "p=0  d=0  q=1 AIC = 355.92873503179504, BIC = 360.4182577161945  MSE = 1952.454 ,  Rmse = 44.187\n",
      "p=0  d=0  q=2 AIC = 357.885978452157, BIC = 363.87200869802297  MSE = 2087.353 ,  Rmse = 45.688\n",
      "p=0  d=0  q=3 AIC = 358.44895830284054, BIC = 365.93149611017293  MSE = 2694.137 ,  Rmse = 51.905\n",
      "p=0  d=0  q=4 AIC = 356.23021712105015, BIC = 365.20926248984904  MSE = 3991.092 ,  Rmse = 63.175\n",
      "p=0  d=0  q=5 AIC = 353.4334246008641, BIC = 363.90897753112944  MSE = 2955.283 ,  Rmse = 54.363\n"
     ]
    }
   ],
   "source": [
    "p = [0]\n",
    "d = [0]\n",
    "q = [0,1,2,3,4,5]\n",
    "\n",
    "for i in range(len(p)):\n",
    "    for j in range(len(d)):\n",
    "        for k in range(len(q)):\n",
    "            fun(train, test, p = p[i], d = d[j], q = q[k])\n",
    "            print('p='+str(p[i])+'  d='+str(d[j])+'  q='+str(q[k])+' AIC = {}, BIC = {}'.format(aic1,bic1)+'  MSE = {} ,  Rmse = {}'.format(round(mse1,3),round(np.sqrt(mse1),3)))         "
   ]
  },
  {
   "cell_type": "markdown",
   "id": "83776e60",
   "metadata": {},
   "source": [
    "p=0  d=0  q=3 AIC = 1779.9963235089901, BIC = 1794.914356617532  MSE = 7290.379 ,  Rmse = 85.384"
   ]
  },
  {
   "cell_type": "code",
   "execution_count": 16,
   "id": "66e27d55",
   "metadata": {},
   "outputs": [],
   "source": [
    "def fun1(data,data1,p,d,q):\n",
    "   \n",
    "  \n",
    "    train = pd.DataFrame(data)\n",
    "    test = pd.DataFrame(data1)\n",
    "    #print(test)\n",
    "    #print(train.meantemp)\n",
    "    m1 = ARIMA(train, order = (p,d,q)).fit()\n",
    "    summ = m1.summary()\n",
    "    global aic1,bic1,mse1\n",
    "    \n",
    "    pvalue = sm.stats.acorr_ljungbox(m1.resid, lags=[1], return_df=True).lb_pvalue.values\n",
    "    if pvalue < 0.05:\n",
    "        print('not a good model')\n",
    "    else:\n",
    "        print('good model')\n",
    "    aic1, bic1 = m1.aic, m1.bic\n",
    "    \n",
    "    f1 = m1.predict(0,len(test)-1)\n",
    "    actual = []\n",
    "    pred = []\n",
    "    for i in range(len(f1)):\n",
    "        actual.append(test.Sales[i])\n",
    "        pred.append(f1[i])\n",
    "    df1 = pd.DataFrame({'actual':actual, 'predicted':pred})\n",
    "    #print(df1)\n",
    "    mse1 = mean_squared_error(df1.actual, df1.predicted)\n",
    "     \n",
    "    df1.actual.plot(figsize = (10,8), legend = True, color = 'black')\n",
    "    df1.predicted.plot(legend = True, color = 'brown')\n",
    "    plt.title('Actual and Forecasted ')\n",
    "    return summ, df1, pvalue"
   ]
  },
  {
   "cell_type": "code",
   "execution_count": 17,
   "id": "15a8237d",
   "metadata": {},
   "outputs": [
    {
     "name": "stdout",
     "output_type": "stream",
     "text": [
      "good model\n"
     ]
    },
    {
     "data": {
      "text/plain": [
       "(<class 'statsmodels.iolib.summary.Summary'>\n",
       " \"\"\"\n",
       "                                SARIMAX Results                                \n",
       " ==============================================================================\n",
       " Dep. Variable:                  Sales   No. Observations:                   33\n",
       " Model:                 ARIMA(1, 0, 2)   Log Likelihood                -173.396\n",
       " Date:                Mon, 14 Nov 2022   AIC                            356.792\n",
       " Time:                        15:12:11   BIC                            364.274\n",
       " Sample:                    01-31-2014   HQIC                           359.309\n",
       "                          - 09-30-2016                                         \n",
       " Covariance Type:                  opg                                         \n",
       " ==============================================================================\n",
       "                  coef    std err          z      P>|z|      [0.025      0.975]\n",
       " ------------------------------------------------------------------------------\n",
       " const        229.5152      2.559     89.692      0.000     224.500     234.531\n",
       " ar.L1          0.6649      0.494      1.346      0.178      -0.303       1.633\n",
       " ma.L1         -1.0279     17.735     -0.058      0.954     -35.787      33.731\n",
       " ma.L2          0.0290      0.781      0.037      0.970      -1.501       1.559\n",
       " sigma2      2020.0529   3.49e+04      0.058      0.954   -6.64e+04    7.04e+04\n",
       " ===================================================================================\n",
       " Ljung-Box (L1) (Q):                   0.00   Jarque-Bera (JB):                 0.81\n",
       " Prob(Q):                              0.97   Prob(JB):                         0.67\n",
       " Heteroskedasticity (H):               0.44   Skew:                            -0.02\n",
       " Prob(H) (two-sided):                  0.19   Kurtosis:                         3.76\n",
       " ===================================================================================\n",
       " \n",
       " Warnings:\n",
       " [1] Covariance matrix calculated using the outer product of gradients (complex-step).\n",
       " \"\"\",\n",
       "         actual   predicted\n",
       " 0   304.529311  229.515156\n",
       " 1   214.626935  238.955680\n",
       " 2   275.565463  265.469748\n",
       " 3   283.686284  228.709019\n",
       " 4   189.730219  236.060693\n",
       " 5   247.362827  244.488162\n",
       " 6   179.909045  235.159738\n",
       " 7   182.897150  232.955132\n",
       " 8   216.251942  246.350676\n",
       " 9   200.285027  222.172986\n",
       " 10  289.545358  233.454048\n",
       " 11  191.430614  227.314092\n",
       " 12  260.996387  221.458463\n",
       " 13  258.056264  196.453713\n",
       " 14  181.448742  213.077426,\n",
       " array([0.97968652]))"
      ]
     },
     "execution_count": 17,
     "metadata": {},
     "output_type": "execute_result"
    },
    {
     "data": {
      "image/png": "[encoded data removed]",
      "text/plain": [
       "<Figure size 720x576 with 1 Axes>"
      ]
     },
     "metadata": {
      "needs_background": "light"
     },
     "output_type": "display_data"
    }
   ],
   "source": [
    "fun1(train, test, 1, 0, 2)"
   ]
  },
  {
   "cell_type": "markdown",
   "id": "a16146b1",
   "metadata": {},
   "source": [
    "#### SARIMA"
   ]
  },
  {
   "cell_type": "code",
   "execution_count": 18,
   "id": "e7b19035",
   "metadata": {},
   "outputs": [
    {
     "name": "stdout",
     "output_type": "stream",
     "text": [
      "0.0\n"
     ]
    },
    {
     "data": {
      "text/plain": [
       "'Data is Stationary. Proceed to moedl building'"
      ]
     },
     "execution_count": 18,
     "metadata": {},
     "output_type": "execute_result"
    }
   ],
   "source": [
    "checkstationarity(d_seasonal)"
   ]
  },
  {
   "cell_type": "markdown",
   "id": "00ce4b6f",
   "metadata": {},
   "source": [
    "#### For Seasonal Data"
   ]
  },
  {
   "cell_type": "code",
   "execution_count": 19,
   "id": "7b5e04bd",
   "metadata": {},
   "outputs": [
    {
     "data": {
      "image/png": "[encoded data removed]",
      "text/plain": [
       "<Figure size 864x360 with 2 Axes>"
      ]
     },
     "metadata": {
      "needs_background": "light"
     },
     "output_type": "display_data"
    }
   ],
   "source": [
    "fig, ax = plt.subplots(1,2, figsize = (12,5))\n",
    "plot_pacf(d_seasonal, lags = 10, ax = ax[0], color = 'brown');  \n",
    "plot_acf(d_seasonal, lags = 10, ax = ax[1], color = 'brown');\n",
    "\n",
    "# Tried with multiple lag sizes like 20,30,40,10 it shows so many p and q values that why considering lags as only 8"
   ]
  },
  {
   "cell_type": "code",
   "execution_count": 20,
   "id": "2b580643",
   "metadata": {},
   "outputs": [],
   "source": [
    "# p = 7\n",
    "# q = 2"
   ]
  },
  {
   "cell_type": "code",
   "execution_count": 21,
   "id": "4efe0698",
   "metadata": {},
   "outputs": [],
   "source": [
    "def fun1(data,data1,p,d,q,P,D,Q):\n",
    "    #print(test)\n",
    "    m1 = SARIMAX(data, order = (p,d,q), seasonal_order = (P,D,Q,7)).fit()\n",
    "    global mse1\n",
    "    f1 = m1.forecast(len(data1))\n",
    "    mse1 = mean_squared_error(data1, f1)\n",
    "    \n",
    "    return "
   ]
  },
  {
   "cell_type": "code",
   "execution_count": 22,
   "id": "de47b7dc",
   "metadata": {},
   "outputs": [],
   "source": [
    "p = [0]\n",
    "d = [0]\n",
    "q = [0,1,2,3,4,5]\n",
    "P = [0,1,2]\n",
    "D = [0]\n",
    "Q = [0,1]\n",
    "ps = []; ds = []; qs = [];\n",
    "RMSE = []; Ps = []; Ds = []; Qs = [];\n",
    "\n",
    "for i in range(len(p)):\n",
    "    for j in range(len(d)):\n",
    "        for k in range(len(q)):\n",
    "            for l in range(len(P)):\n",
    "                for m in range(len(D)):\n",
    "                    for n in range(len(Q)):\n",
    "                        ps.append(p[i]); ds.append(d[j]); qs.append(q[k]); Ps.append(P[l]); Ds.append(D[m]); Qs.append(Q[n]); RMSE.append(round(np.sqrt(mse1),3))\n",
    "                        fun1(train, test, p = p[i], d = d[j], q = q[k], P = P[l], D = D[m], Q = Q[n])\n",
    "                        #print('p='+str(p[i])+'  d='+str(d[j])+'  q='+str(q[k])+' P='+str(P[l])+'  D='+str(D[m])+'  Q='+str(Q[n])+'  Rmse={}'.format(round(np.sqrt(mse1),3)))"
   ]
  },
  {
   "cell_type": "code",
   "execution_count": 23,
   "id": "83e3cd5b",
   "metadata": {},
   "outputs": [
    {
     "data": {
      "text/html": [
       "<div>\n",
       "<style scoped>\n",
       "    .dataframe tbody tr th:only-of-type {\n",
       "        vertical-align: middle;\n",
       "    }\n",
       "\n",
       "    .dataframe tbody tr th {\n",
       "        vertical-align: top;\n",
       "    }\n",
       "\n",
       "    .dataframe thead th {\n",
       "        text-align: right;\n",
       "    }\n",
       "</style>\n",
       "<table border=\"1\" class=\"dataframe\">\n",
       "  <thead>\n",
       "    <tr style=\"text-align: right;\">\n",
       "      <th></th>\n",
       "      <th>p</th>\n",
       "      <th>d</th>\n",
       "      <th>q</th>\n",
       "      <th>P</th>\n",
       "      <th>D</th>\n",
       "      <th>Q</th>\n",
       "      <th>RMSE</th>\n",
       "    </tr>\n",
       "  </thead>\n",
       "  <tbody>\n",
       "    <tr>\n",
       "      <th>0</th>\n",
       "      <td>0</td>\n",
       "      <td>0</td>\n",
       "      <td>0</td>\n",
       "      <td>0</td>\n",
       "      <td>0</td>\n",
       "      <td>0</td>\n",
       "      <td>44.147</td>\n",
       "    </tr>\n",
       "  </tbody>\n",
       "</table>\n",
       "</div>"
      ],
      "text/plain": [
       "   p  d  q  P  D  Q    RMSE\n",
       "0  0  0  0  0  0  0  44.147"
      ]
     },
     "execution_count": 23,
     "metadata": {},
     "output_type": "execute_result"
    }
   ],
   "source": [
    "sari = pd.DataFrame(list(zip(ps,ds,qs,Ps,Ds,Qs,RMSE)), columns = ['p','d','q','P','D','Q','RMSE'])\n",
    "sari.sort_values(by = ['RMSE']).head(1)"
   ]
  },
  {
   "cell_type": "code",
   "execution_count": 24,
   "id": "4629f8f2",
   "metadata": {},
   "outputs": [],
   "source": [
    "s1 = SARIMAX(train, order = (1,0,2), seasonal_order = (1,0,2,7)).fit()"
   ]
  },
  {
   "cell_type": "code",
   "execution_count": 25,
   "id": "87281dd0",
   "metadata": {},
   "outputs": [
    {
     "data": {
      "text/plain": [
       "2016-10-31    224.055525\n",
       "2016-11-30    212.789472\n",
       "2016-12-31    229.645217\n",
       "2017-01-31    244.773927\n",
       "2017-02-28    220.555249\n",
       "2017-03-31    223.250040\n",
       "2017-04-30    250.545516\n",
       "2017-05-31    253.028906\n",
       "2017-06-30    231.764316\n",
       "2017-07-31    229.484161\n",
       "2017-08-31    208.118610\n",
       "2017-09-30    222.387187\n",
       "2017-10-31    205.199258\n",
       "2017-11-30    223.991485\n",
       "2017-12-31    230.378812\n",
       "Freq: M, Name: predicted_mean, dtype: float64"
      ]
     },
     "execution_count": 25,
     "metadata": {},
     "output_type": "execute_result"
    }
   ],
   "source": [
    "f1 = s1.forecast(len(test))\n",
    "f1"
   ]
  },
  {
   "cell_type": "code",
   "execution_count": 26,
   "id": "8148d502",
   "metadata": {},
   "outputs": [
    {
     "data": {
      "image/png": "[encoded data removed]",
      "text/plain": [
       "<Figure size 1440x1080 with 1 Axes>"
      ]
     },
     "metadata": {
      "needs_background": "light"
     },
     "output_type": "display_data"
    }
   ],
   "source": [
    "plt.figure(figsize = (20,15))\n",
    "\n",
    "plt.plot(test, 'r', label = 'Actual', color = 'black')\n",
    "plt.plot(f1, 'b', label = 'Predictions', color = 'brown')\n",
    "plt.legend()\n",
    "plt.show()"
   ]
  },
  {
   "cell_type": "code",
   "execution_count": 27,
   "id": "4e67f422",
   "metadata": {},
   "outputs": [
    {
     "name": "stdout",
     "output_type": "stream",
     "text": [
      "RMSE for SARIMA: 49.59271359033684\n"
     ]
    }
   ],
   "source": [
    "mse2 = mean_squared_error(test, f1)\n",
    "print('RMSE for SARIMA: ' + str(np.sqrt(mse2)))"
   ]
  },
  {
   "cell_type": "markdown",
   "id": "750e1190",
   "metadata": {},
   "source": [
    "#### Sarimax Model"
   ]
  },
  {
   "cell_type": "code",
   "execution_count": 28,
   "id": "38baa891",
   "metadata": {},
   "outputs": [
    {
     "name": "stdout",
     "output_type": "stream",
     "text": [
      "train = 33, test = 15\n"
     ]
    }
   ],
   "source": [
    "smx = int(len(df_resample)*0.7)\n",
    "traint = df_resample[:smx]\n",
    "testt = df_resample[smx:]\n",
    "print('train = {}, test = {}'.format(len(traint),len(testt)))"
   ]
  },
  {
   "cell_type": "code",
   "execution_count": 29,
   "id": "e5394ec7",
   "metadata": {},
   "outputs": [],
   "source": [
    "def fun2(data,data1,p,d,q,P,D,Q):\n",
    "  \n",
    "    exog_train = traint[['Quantity','Discount','Profit']]\n",
    "    exog_test = testt[['Quantity','Discount','Profit']]\n",
    "    #print(test)\n",
    "    m1 = SARIMAX(data, order = (p,d,q), seasonal_order = (P,D,Q,7), exog = exog_train.values).fit()\n",
    "    global mse1\n",
    "    f1 = m1.forecast(len(data1), exog = exog_test.values)\n",
    "    mse1 = mean_squared_error(data1,f1)\n",
    "    return "
   ]
  },
  {
   "cell_type": "code",
   "execution_count": 30,
   "id": "dbdd50e4",
   "metadata": {},
   "outputs": [],
   "source": [
    "p = [0]\n",
    "d = [0]\n",
    "q = [0,1,2,3,4,5]\n",
    "P=[0,1,2]\n",
    "D=[0]\n",
    "Q=[0,1]\n",
    "px=[];dx=[];qx=[];\n",
    "RMSE=[];Px=[];Dx=[];Qx=[];\n",
    "\n",
    "for i in range(len(p)):\n",
    "     for j in range(len(d)):\n",
    "        for k in range(len(q)):\n",
    "             for l in range(len(P)):\n",
    "                for m in range(len(D)):\n",
    "                     for n in range(len(Q)):\n",
    "                        px.append(p[i]);dx.append(d[j]);qx.append(q[k]);Px.append(P[l]);Dx.append(D[m]);Qx.append(Q[n]);RMSE.append(round(np.sqrt(mse1),3))\n",
    "                        fun1(train,test,p=p[i],d=d[j],q=q[k],P=P[l],D=D[m],Q=Q[n])"
   ]
  },
  {
   "cell_type": "code",
   "execution_count": 31,
   "id": "caf5247e",
   "metadata": {},
   "outputs": [],
   "source": [
    "exog_train = traint[['Quantity','Discount','Profit']]\n",
    "exog_test = testt[['Quantity','Discount','Profit']]\n",
    "\n",
    "sm2 = SARIMAX(train,order=(1,0,2),seasonal_order=(1,0,2,7),exog=exog_train.values).fit()"
   ]
  },
  {
   "cell_type": "code",
   "execution_count": 32,
   "id": "14e6db8d",
   "metadata": {},
   "outputs": [
    {
     "data": {
      "text/plain": [
       "2016-10-31    195.624828\n",
       "2016-11-30    243.263180\n",
       "2016-12-31    213.996027\n",
       "2017-01-31    235.412492\n",
       "2017-02-28    240.132141\n",
       "Freq: M, Name: predicted_mean, dtype: float64"
      ]
     },
     "execution_count": 32,
     "metadata": {},
     "output_type": "execute_result"
    }
   ],
   "source": [
    "f2 = sm2.forecast(len(test), exog = exog_test.values)\n",
    "f2.head()"
   ]
  },
  {
   "cell_type": "code",
   "execution_count": 33,
   "id": "54a14f5a",
   "metadata": {},
   "outputs": [
    {
     "data": {
      "text/plain": [
       "<matplotlib.legend.Legend at 0x16a1a0ee100>"
      ]
     },
     "execution_count": 33,
     "metadata": {},
     "output_type": "execute_result"
    },
    {
     "data": {
      "image/png": "[encoded data removed]",
      "text/plain": [
       "<Figure size 720x360 with 1 Axes>"
      ]
     },
     "metadata": {
      "needs_background": "light"
     },
     "output_type": "display_data"
    }
   ],
   "source": [
    "plt.figure(figsize=(10,5))\n",
    "plt.plot(test, 'r', label = 'Actual', color = 'black')\n",
    "plt.plot(f2, 'b', label = 'Predictions', color = 'brown')\n",
    "plt.xlabel('Day')\n",
    "plt.legend()"
   ]
  },
  {
   "cell_type": "code",
   "execution_count": 34,
   "id": "07325c5e",
   "metadata": {},
   "outputs": [
    {
     "name": "stdout",
     "output_type": "stream",
     "text": [
      "RMSE for SARIMAX: 51.863289849797304\n"
     ]
    }
   ],
   "source": [
    "mse2 = mean_squared_error(test,f2)\n",
    "print('RMSE for SARIMAX: ' + str(np.sqrt(mse2)))"
   ]
  },
  {
   "cell_type": "markdown",
   "id": "6cf6cbfc",
   "metadata": {},
   "source": [
    "RMSE for ARMA = 85.384,\n",
    "RMSE for SARIMA = 84.94115783252957,\n",
    "RMSE for SARIMAX = 74.18427196435213"
   ]
  },
  {
   "cell_type": "code",
   "execution_count": 35,
   "id": "db382929",
   "metadata": {},
   "outputs": [
    {
     "name": "stdout",
     "output_type": "stream",
     "text": [
      "Conclusion : \n",
      "RMSE value for ARIMA = 85.384, \n",
      "RMSE value for SARIMA = 84.94115783252957, \n",
      "RMSE value for SARIMAX = 74.18427196435213\n"
     ]
    }
   ],
   "source": [
    "print(\"Conclusion : \\nRMSE value for ARIMA = 85.384, \\nRMSE value for SARIMA = 84.94115783252957, \\nRMSE value for SARIMAX = 74.18427196435213\")"
   ]
  },
  {
   "cell_type": "code",
   "execution_count": 36,
   "id": "16197b8e",
   "metadata": {},
   "outputs": [
    {
     "name": "stdout",
     "output_type": "stream",
     "text": [
      "RMSE value of SARIMAX is lower than the RMSE value of ARMA and SARIMA\n"
     ]
    }
   ],
   "source": [
    "print('RMSE value of SARIMAX is lower than the RMSE value of ARMA and SARIMA')"
   ]
  },
  {
   "cell_type": "markdown",
   "id": "a7c449f2",
   "metadata": {},
   "source": [
    "Interpretations :\n",
    "* Firstly imported all the libraries and read the data \n",
    "* converted order date as index\n",
    "* Resampled the sales column\n",
    "* after that did a seasonal decompose and plotted a graph for it\n",
    "* then splitted the data into 70:30 ratio as train and test for sales\n",
    "* then, I have checked for stationarity for both train and test\n",
    "* both train and test data are stationary\n",
    "* then plotted the graph for ACF and PACF\n",
    "* constructed the model for ARMA\n",
    "* and predicted the sales test data\n",
    "* also build and summarised the model and plotted the graph\n",
    "* I have build the ARIMA model\n",
    "* summarized and forecasted the model\n",
    "* I have build the SARIMA model\n",
    "* Predicted the values of sales using test data\n",
    "* forecasted the value of the model\n",
    "* plotted a graph for actual and predicted values\n",
    "* I have build the SARIMAx model\n",
    "* Predicted the values of sales using test data\n",
    "* forecasted the value of the model\n",
    "* plotted a graph for actual and predicted values"
   ]
  },
  {
   "cell_type": "code",
   "execution_count": null,
   "id": "3183ed3a",
   "metadata": {},
   "outputs": [],
   "source": []
  }
 ],
 "metadata": {
  "kernelspec": {
   "display_name": "Python 3 (ipykernel)",
   "language": "python",
   "name": "python3"
  },
  "language_info": {
   "codemirror_mode": {
    "name": "ipython",
    "version": 3
   },
   "file_extension": ".py",
   "mimetype": "text/x-python",
   "name": "python",
   "nbconvert_exporter": "python",
   "pygments_lexer": "ipython3",
   "version": "3.9.12"
  }
 },
 "nbformat": 4,
 "nbformat_minor": 5
}
