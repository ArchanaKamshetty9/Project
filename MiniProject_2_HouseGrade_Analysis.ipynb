{
 "cells": [
  {
   "cell_type": "code",
   "execution_count": 63,
   "id": "3a316515",
   "metadata": {},
   "outputs": [],
   "source": [
    "import pandas as pd\n",
    "import numpy as np\n",
    "from numpy import mean\n",
    "import matplotlib.pyplot as plt\n",
    "import seaborn as sns\n",
    "\n",
    "from sklearn import preprocessing\n",
    "from tabulate import tabulate\n",
    "from sklearn.preprocessing import MinMaxScaler, LabelEncoder\n",
    "from sklearn.model_selection import train_test_split, cross_validate, StratifiedKFold, RepeatedStratifiedKFold, cross_val_score\n",
    "from sklearn.metrics import f1_score, roc_auc_score, roc_curve\n",
    "\n",
    "from sklearn.linear_model import LogisticRegression\n",
    "from sklearn.naive_bayes import GaussianNB \n",
    "from sklearn.tree import DecisionTreeClassifier\n",
    "from sklearn.ensemble import RandomForestClassifier, AdaBoostClassifier, StackingClassifier\n",
    "from sklearn.discriminant_analysis import LinearDiscriminantAnalysis\n",
    "from sklearn import neighbors\n",
    "from sklearn.neighbors import KNeighborsClassifier\n",
    "from sklearn.svm import SVC\n",
    "\n",
    "import warnings\n",
    "warnings.filterwarnings('ignore')"
   ]
  },
  {
   "cell_type": "code",
   "execution_count": 3,
   "id": "58200bea",
   "metadata": {},
   "outputs": [
    {
     "data": {
      "text/html": [
       "<div>\n",
       "<style scoped>\n",
       "    .dataframe tbody tr th:only-of-type {\n",
       "        vertical-align: middle;\n",
       "    }\n",
       "\n",
       "    .dataframe tbody tr th {\n",
       "        vertical-align: top;\n",
       "    }\n",
       "\n",
       "    .dataframe thead th {\n",
       "        text-align: right;\n",
       "    }\n",
       "</style>\n",
       "<table border=\"1\" class=\"dataframe\">\n",
       "  <thead>\n",
       "    <tr style=\"text-align: right;\">\n",
       "      <th></th>\n",
       "      <th>Id</th>\n",
       "      <th>Area(total)</th>\n",
       "      <th>Trooms</th>\n",
       "      <th>Nbedrooms</th>\n",
       "      <th>Nbwashrooms</th>\n",
       "      <th>Twashrooms</th>\n",
       "      <th>roof</th>\n",
       "      <th>Roof(Area)</th>\n",
       "      <th>Lawn(Area)</th>\n",
       "      <th>Nfloors</th>\n",
       "      <th>API</th>\n",
       "      <th>ANB</th>\n",
       "      <th>Expected price</th>\n",
       "      <th>Grade</th>\n",
       "    </tr>\n",
       "  </thead>\n",
       "  <tbody>\n",
       "    <tr>\n",
       "      <th>0</th>\n",
       "      <td>1</td>\n",
       "      <td>339</td>\n",
       "      <td>6</td>\n",
       "      <td>5</td>\n",
       "      <td>4</td>\n",
       "      <td>6</td>\n",
       "      <td>NO</td>\n",
       "      <td>0</td>\n",
       "      <td>76</td>\n",
       "      <td>2</td>\n",
       "      <td>79</td>\n",
       "      <td>6</td>\n",
       "      <td>3481</td>\n",
       "      <td>D</td>\n",
       "    </tr>\n",
       "    <tr>\n",
       "      <th>1</th>\n",
       "      <td>2</td>\n",
       "      <td>358</td>\n",
       "      <td>5</td>\n",
       "      <td>4</td>\n",
       "      <td>3</td>\n",
       "      <td>4</td>\n",
       "      <td>YES</td>\n",
       "      <td>71</td>\n",
       "      <td>96</td>\n",
       "      <td>3</td>\n",
       "      <td>72</td>\n",
       "      <td>4</td>\n",
       "      <td>3510</td>\n",
       "      <td>D</td>\n",
       "    </tr>\n",
       "    <tr>\n",
       "      <th>2</th>\n",
       "      <td>3</td>\n",
       "      <td>324</td>\n",
       "      <td>7</td>\n",
       "      <td>5</td>\n",
       "      <td>4</td>\n",
       "      <td>5</td>\n",
       "      <td>YES</td>\n",
       "      <td>101</td>\n",
       "      <td>117</td>\n",
       "      <td>5</td>\n",
       "      <td>64</td>\n",
       "      <td>3</td>\n",
       "      <td>3748</td>\n",
       "      <td>C</td>\n",
       "    </tr>\n",
       "    <tr>\n",
       "      <th>3</th>\n",
       "      <td>4</td>\n",
       "      <td>330</td>\n",
       "      <td>6</td>\n",
       "      <td>4</td>\n",
       "      <td>3</td>\n",
       "      <td>5</td>\n",
       "      <td>YES</td>\n",
       "      <td>101</td>\n",
       "      <td>82</td>\n",
       "      <td>2</td>\n",
       "      <td>59</td>\n",
       "      <td>2</td>\n",
       "      <td>3134</td>\n",
       "      <td>D</td>\n",
       "    </tr>\n",
       "    <tr>\n",
       "      <th>4</th>\n",
       "      <td>5</td>\n",
       "      <td>320</td>\n",
       "      <td>7</td>\n",
       "      <td>4</td>\n",
       "      <td>4</td>\n",
       "      <td>5</td>\n",
       "      <td>NO</td>\n",
       "      <td>0</td>\n",
       "      <td>75</td>\n",
       "      <td>3</td>\n",
       "      <td>40</td>\n",
       "      <td>1</td>\n",
       "      <td>3843</td>\n",
       "      <td>D</td>\n",
       "    </tr>\n",
       "    <tr>\n",
       "      <th>...</th>\n",
       "      <td>...</td>\n",
       "      <td>...</td>\n",
       "      <td>...</td>\n",
       "      <td>...</td>\n",
       "      <td>...</td>\n",
       "      <td>...</td>\n",
       "      <td>...</td>\n",
       "      <td>...</td>\n",
       "      <td>...</td>\n",
       "      <td>...</td>\n",
       "      <td>...</td>\n",
       "      <td>...</td>\n",
       "      <td>...</td>\n",
       "      <td>...</td>\n",
       "    </tr>\n",
       "    <tr>\n",
       "      <th>2995</th>\n",
       "      <td>2996</td>\n",
       "      <td>341</td>\n",
       "      <td>9</td>\n",
       "      <td>6</td>\n",
       "      <td>5</td>\n",
       "      <td>7</td>\n",
       "      <td>YES</td>\n",
       "      <td>95</td>\n",
       "      <td>115</td>\n",
       "      <td>5</td>\n",
       "      <td>90</td>\n",
       "      <td>2</td>\n",
       "      <td>4246</td>\n",
       "      <td>B</td>\n",
       "    </tr>\n",
       "    <tr>\n",
       "      <th>2996</th>\n",
       "      <td>2997</td>\n",
       "      <td>292</td>\n",
       "      <td>9</td>\n",
       "      <td>8</td>\n",
       "      <td>7</td>\n",
       "      <td>8</td>\n",
       "      <td>YES</td>\n",
       "      <td>116</td>\n",
       "      <td>87</td>\n",
       "      <td>7</td>\n",
       "      <td>97</td>\n",
       "      <td>4</td>\n",
       "      <td>3753</td>\n",
       "      <td>A</td>\n",
       "    </tr>\n",
       "    <tr>\n",
       "      <th>2997</th>\n",
       "      <td>2998</td>\n",
       "      <td>328</td>\n",
       "      <td>7</td>\n",
       "      <td>4</td>\n",
       "      <td>3</td>\n",
       "      <td>5</td>\n",
       "      <td>NO</td>\n",
       "      <td>0</td>\n",
       "      <td>78</td>\n",
       "      <td>5</td>\n",
       "      <td>95</td>\n",
       "      <td>6</td>\n",
       "      <td>3607</td>\n",
       "      <td>D</td>\n",
       "    </tr>\n",
       "    <tr>\n",
       "      <th>2998</th>\n",
       "      <td>2999</td>\n",
       "      <td>293</td>\n",
       "      <td>9</td>\n",
       "      <td>7</td>\n",
       "      <td>7</td>\n",
       "      <td>8</td>\n",
       "      <td>NO</td>\n",
       "      <td>0</td>\n",
       "      <td>78</td>\n",
       "      <td>7</td>\n",
       "      <td>51</td>\n",
       "      <td>3</td>\n",
       "      <td>4198</td>\n",
       "      <td>B</td>\n",
       "    </tr>\n",
       "    <tr>\n",
       "      <th>2999</th>\n",
       "      <td>3000</td>\n",
       "      <td>343</td>\n",
       "      <td>7</td>\n",
       "      <td>6</td>\n",
       "      <td>6</td>\n",
       "      <td>8</td>\n",
       "      <td>NO</td>\n",
       "      <td>0</td>\n",
       "      <td>108</td>\n",
       "      <td>5</td>\n",
       "      <td>95</td>\n",
       "      <td>3</td>\n",
       "      <td>4105</td>\n",
       "      <td>C</td>\n",
       "    </tr>\n",
       "  </tbody>\n",
       "</table>\n",
       "<p>3000 rows × 14 columns</p>\n",
       "</div>"
      ],
      "text/plain": [
       "        Id  Area(total)  Trooms  Nbedrooms  Nbwashrooms  Twashrooms roof  \\\n",
       "0        1          339       6          5            4           6   NO   \n",
       "1        2          358       5          4            3           4  YES   \n",
       "2        3          324       7          5            4           5  YES   \n",
       "3        4          330       6          4            3           5  YES   \n",
       "4        5          320       7          4            4           5   NO   \n",
       "...    ...          ...     ...        ...          ...         ...  ...   \n",
       "2995  2996          341       9          6            5           7  YES   \n",
       "2996  2997          292       9          8            7           8  YES   \n",
       "2997  2998          328       7          4            3           5   NO   \n",
       "2998  2999          293       9          7            7           8   NO   \n",
       "2999  3000          343       7          6            6           8   NO   \n",
       "\n",
       "      Roof(Area)  Lawn(Area)  Nfloors  API  ANB  Expected price Grade  \n",
       "0              0          76        2   79    6            3481     D  \n",
       "1             71          96        3   72    4            3510     D  \n",
       "2            101         117        5   64    3            3748     C  \n",
       "3            101          82        2   59    2            3134     D  \n",
       "4              0          75        3   40    1            3843     D  \n",
       "...          ...         ...      ...  ...  ...             ...   ...  \n",
       "2995          95         115        5   90    2            4246     B  \n",
       "2996         116          87        7   97    4            3753     A  \n",
       "2997           0          78        5   95    6            3607     D  \n",
       "2998           0          78        7   51    3            4198     B  \n",
       "2999           0         108        5   95    3            4105     C  \n",
       "\n",
       "[3000 rows x 14 columns]"
      ]
     },
     "execution_count": 3,
     "metadata": {},
     "output_type": "execute_result"
    }
   ],
   "source": [
    "df = pd.read_csv('DS3_C6_S2_Classification_HouseGrade_Data_Project.csv')\n",
    "df"
   ]
  },
  {
   "cell_type": "code",
   "execution_count": 4,
   "id": "4c3d0c9f",
   "metadata": {},
   "outputs": [
    {
     "data": {
      "text/plain": [
       "(3000, 14)"
      ]
     },
     "execution_count": 4,
     "metadata": {},
     "output_type": "execute_result"
    }
   ],
   "source": [
    "df.shape"
   ]
  },
  {
   "cell_type": "code",
   "execution_count": 5,
   "id": "35b87790",
   "metadata": {},
   "outputs": [
    {
     "data": {
      "text/plain": [
       "Id                0\n",
       "Area(total)       0\n",
       "Trooms            0\n",
       "Nbedrooms         0\n",
       "Nbwashrooms       0\n",
       "Twashrooms        0\n",
       "roof              0\n",
       "Roof(Area)        0\n",
       "Lawn(Area)        0\n",
       "Nfloors           0\n",
       "API               0\n",
       "ANB               0\n",
       "Expected price    0\n",
       "Grade             0\n",
       "dtype: int64"
      ]
     },
     "execution_count": 5,
     "metadata": {},
     "output_type": "execute_result"
    }
   ],
   "source": [
    "df.isnull().sum()"
   ]
  },
  {
   "cell_type": "code",
   "execution_count": 6,
   "id": "faea30dd",
   "metadata": {},
   "outputs": [
    {
     "name": "stdout",
     "output_type": "stream",
     "text": [
      "<class 'pandas.core.frame.DataFrame'>\n",
      "RangeIndex: 3000 entries, 0 to 2999\n",
      "Data columns (total 14 columns):\n",
      " #   Column          Non-Null Count  Dtype \n",
      "---  ------          --------------  ----- \n",
      " 0   Id              3000 non-null   int64 \n",
      " 1   Area(total)     3000 non-null   int64 \n",
      " 2   Trooms          3000 non-null   int64 \n",
      " 3   Nbedrooms       3000 non-null   int64 \n",
      " 4   Nbwashrooms     3000 non-null   int64 \n",
      " 5   Twashrooms      3000 non-null   int64 \n",
      " 6   roof            3000 non-null   object\n",
      " 7   Roof(Area)      3000 non-null   int64 \n",
      " 8   Lawn(Area)      3000 non-null   int64 \n",
      " 9   Nfloors         3000 non-null   int64 \n",
      " 10  API             3000 non-null   int64 \n",
      " 11  ANB             3000 non-null   int64 \n",
      " 12  Expected price  3000 non-null   int64 \n",
      " 13  Grade           3000 non-null   object\n",
      "dtypes: int64(12), object(2)\n",
      "memory usage: 328.2+ KB\n"
     ]
    }
   ],
   "source": [
    "df.info()"
   ]
  },
  {
   "cell_type": "code",
   "execution_count": 7,
   "id": "1491888d",
   "metadata": {},
   "outputs": [
    {
     "data": {
      "text/html": [
       "<div>\n",
       "<style scoped>\n",
       "    .dataframe tbody tr th:only-of-type {\n",
       "        vertical-align: middle;\n",
       "    }\n",
       "\n",
       "    .dataframe tbody tr th {\n",
       "        vertical-align: top;\n",
       "    }\n",
       "\n",
       "    .dataframe thead th {\n",
       "        text-align: right;\n",
       "    }\n",
       "</style>\n",
       "<table border=\"1\" class=\"dataframe\">\n",
       "  <thead>\n",
       "    <tr style=\"text-align: right;\">\n",
       "      <th></th>\n",
       "      <th>Area(total)</th>\n",
       "      <th>Trooms</th>\n",
       "      <th>Nbedrooms</th>\n",
       "      <th>Nbwashrooms</th>\n",
       "      <th>Twashrooms</th>\n",
       "      <th>roof</th>\n",
       "      <th>Roof(Area)</th>\n",
       "      <th>Lawn(Area)</th>\n",
       "      <th>Nfloors</th>\n",
       "      <th>API</th>\n",
       "      <th>ANB</th>\n",
       "      <th>Expected price</th>\n",
       "      <th>Grade</th>\n",
       "    </tr>\n",
       "  </thead>\n",
       "  <tbody>\n",
       "    <tr>\n",
       "      <th>0</th>\n",
       "      <td>339</td>\n",
       "      <td>6</td>\n",
       "      <td>5</td>\n",
       "      <td>4</td>\n",
       "      <td>6</td>\n",
       "      <td>NO</td>\n",
       "      <td>0</td>\n",
       "      <td>76</td>\n",
       "      <td>2</td>\n",
       "      <td>79</td>\n",
       "      <td>6</td>\n",
       "      <td>3481</td>\n",
       "      <td>D</td>\n",
       "    </tr>\n",
       "    <tr>\n",
       "      <th>1</th>\n",
       "      <td>358</td>\n",
       "      <td>5</td>\n",
       "      <td>4</td>\n",
       "      <td>3</td>\n",
       "      <td>4</td>\n",
       "      <td>YES</td>\n",
       "      <td>71</td>\n",
       "      <td>96</td>\n",
       "      <td>3</td>\n",
       "      <td>72</td>\n",
       "      <td>4</td>\n",
       "      <td>3510</td>\n",
       "      <td>D</td>\n",
       "    </tr>\n",
       "    <tr>\n",
       "      <th>2</th>\n",
       "      <td>324</td>\n",
       "      <td>7</td>\n",
       "      <td>5</td>\n",
       "      <td>4</td>\n",
       "      <td>5</td>\n",
       "      <td>YES</td>\n",
       "      <td>101</td>\n",
       "      <td>117</td>\n",
       "      <td>5</td>\n",
       "      <td>64</td>\n",
       "      <td>3</td>\n",
       "      <td>3748</td>\n",
       "      <td>C</td>\n",
       "    </tr>\n",
       "    <tr>\n",
       "      <th>3</th>\n",
       "      <td>330</td>\n",
       "      <td>6</td>\n",
       "      <td>4</td>\n",
       "      <td>3</td>\n",
       "      <td>5</td>\n",
       "      <td>YES</td>\n",
       "      <td>101</td>\n",
       "      <td>82</td>\n",
       "      <td>2</td>\n",
       "      <td>59</td>\n",
       "      <td>2</td>\n",
       "      <td>3134</td>\n",
       "      <td>D</td>\n",
       "    </tr>\n",
       "    <tr>\n",
       "      <th>4</th>\n",
       "      <td>320</td>\n",
       "      <td>7</td>\n",
       "      <td>4</td>\n",
       "      <td>4</td>\n",
       "      <td>5</td>\n",
       "      <td>NO</td>\n",
       "      <td>0</td>\n",
       "      <td>75</td>\n",
       "      <td>3</td>\n",
       "      <td>40</td>\n",
       "      <td>1</td>\n",
       "      <td>3843</td>\n",
       "      <td>D</td>\n",
       "    </tr>\n",
       "    <tr>\n",
       "      <th>...</th>\n",
       "      <td>...</td>\n",
       "      <td>...</td>\n",
       "      <td>...</td>\n",
       "      <td>...</td>\n",
       "      <td>...</td>\n",
       "      <td>...</td>\n",
       "      <td>...</td>\n",
       "      <td>...</td>\n",
       "      <td>...</td>\n",
       "      <td>...</td>\n",
       "      <td>...</td>\n",
       "      <td>...</td>\n",
       "      <td>...</td>\n",
       "    </tr>\n",
       "    <tr>\n",
       "      <th>2995</th>\n",
       "      <td>341</td>\n",
       "      <td>9</td>\n",
       "      <td>6</td>\n",
       "      <td>5</td>\n",
       "      <td>7</td>\n",
       "      <td>YES</td>\n",
       "      <td>95</td>\n",
       "      <td>115</td>\n",
       "      <td>5</td>\n",
       "      <td>90</td>\n",
       "      <td>2</td>\n",
       "      <td>4246</td>\n",
       "      <td>B</td>\n",
       "    </tr>\n",
       "    <tr>\n",
       "      <th>2996</th>\n",
       "      <td>292</td>\n",
       "      <td>9</td>\n",
       "      <td>8</td>\n",
       "      <td>7</td>\n",
       "      <td>8</td>\n",
       "      <td>YES</td>\n",
       "      <td>116</td>\n",
       "      <td>87</td>\n",
       "      <td>7</td>\n",
       "      <td>97</td>\n",
       "      <td>4</td>\n",
       "      <td>3753</td>\n",
       "      <td>A</td>\n",
       "    </tr>\n",
       "    <tr>\n",
       "      <th>2997</th>\n",
       "      <td>328</td>\n",
       "      <td>7</td>\n",
       "      <td>4</td>\n",
       "      <td>3</td>\n",
       "      <td>5</td>\n",
       "      <td>NO</td>\n",
       "      <td>0</td>\n",
       "      <td>78</td>\n",
       "      <td>5</td>\n",
       "      <td>95</td>\n",
       "      <td>6</td>\n",
       "      <td>3607</td>\n",
       "      <td>D</td>\n",
       "    </tr>\n",
       "    <tr>\n",
       "      <th>2998</th>\n",
       "      <td>293</td>\n",
       "      <td>9</td>\n",
       "      <td>7</td>\n",
       "      <td>7</td>\n",
       "      <td>8</td>\n",
       "      <td>NO</td>\n",
       "      <td>0</td>\n",
       "      <td>78</td>\n",
       "      <td>7</td>\n",
       "      <td>51</td>\n",
       "      <td>3</td>\n",
       "      <td>4198</td>\n",
       "      <td>B</td>\n",
       "    </tr>\n",
       "    <tr>\n",
       "      <th>2999</th>\n",
       "      <td>343</td>\n",
       "      <td>7</td>\n",
       "      <td>6</td>\n",
       "      <td>6</td>\n",
       "      <td>8</td>\n",
       "      <td>NO</td>\n",
       "      <td>0</td>\n",
       "      <td>108</td>\n",
       "      <td>5</td>\n",
       "      <td>95</td>\n",
       "      <td>3</td>\n",
       "      <td>4105</td>\n",
       "      <td>C</td>\n",
       "    </tr>\n",
       "  </tbody>\n",
       "</table>\n",
       "<p>3000 rows × 13 columns</p>\n",
       "</div>"
      ],
      "text/plain": [
       "      Area(total)  Trooms  Nbedrooms  Nbwashrooms  Twashrooms roof  \\\n",
       "0             339       6          5            4           6   NO   \n",
       "1             358       5          4            3           4  YES   \n",
       "2             324       7          5            4           5  YES   \n",
       "3             330       6          4            3           5  YES   \n",
       "4             320       7          4            4           5   NO   \n",
       "...           ...     ...        ...          ...         ...  ...   \n",
       "2995          341       9          6            5           7  YES   \n",
       "2996          292       9          8            7           8  YES   \n",
       "2997          328       7          4            3           5   NO   \n",
       "2998          293       9          7            7           8   NO   \n",
       "2999          343       7          6            6           8   NO   \n",
       "\n",
       "      Roof(Area)  Lawn(Area)  Nfloors  API  ANB  Expected price Grade  \n",
       "0              0          76        2   79    6            3481     D  \n",
       "1             71          96        3   72    4            3510     D  \n",
       "2            101         117        5   64    3            3748     C  \n",
       "3            101          82        2   59    2            3134     D  \n",
       "4              0          75        3   40    1            3843     D  \n",
       "...          ...         ...      ...  ...  ...             ...   ...  \n",
       "2995          95         115        5   90    2            4246     B  \n",
       "2996         116          87        7   97    4            3753     A  \n",
       "2997           0          78        5   95    6            3607     D  \n",
       "2998           0          78        7   51    3            4198     B  \n",
       "2999           0         108        5   95    3            4105     C  \n",
       "\n",
       "[3000 rows x 13 columns]"
      ]
     },
     "execution_count": 7,
     "metadata": {},
     "output_type": "execute_result"
    }
   ],
   "source": [
    "df = df.drop(['Id'], axis = 1)\n",
    "df"
   ]
  },
  {
   "cell_type": "code",
   "execution_count": 9,
   "id": "7728b092",
   "metadata": {},
   "outputs": [],
   "source": [
    "# Converting objects into columns\n",
    "\n",
    "df['roof'] = df['roof'].astype('category')\n",
    "df['Grade'] = df['Grade'].astype('category')"
   ]
  },
  {
   "cell_type": "code",
   "execution_count": 10,
   "id": "31ee1b7a",
   "metadata": {},
   "outputs": [
    {
     "name": "stdout",
     "output_type": "stream",
     "text": [
      "<class 'pandas.core.frame.DataFrame'>\n",
      "RangeIndex: 3000 entries, 0 to 2999\n",
      "Data columns (total 13 columns):\n",
      " #   Column          Non-Null Count  Dtype   \n",
      "---  ------          --------------  -----   \n",
      " 0   Area(total)     3000 non-null   int64   \n",
      " 1   Trooms          3000 non-null   int64   \n",
      " 2   Nbedrooms       3000 non-null   int64   \n",
      " 3   Nbwashrooms     3000 non-null   int64   \n",
      " 4   Twashrooms      3000 non-null   int64   \n",
      " 5   roof            3000 non-null   category\n",
      " 6   Roof(Area)      3000 non-null   int64   \n",
      " 7   Lawn(Area)      3000 non-null   int64   \n",
      " 8   Nfloors         3000 non-null   int64   \n",
      " 9   API             3000 non-null   int64   \n",
      " 10  ANB             3000 non-null   int64   \n",
      " 11  Expected price  3000 non-null   int64   \n",
      " 12  Grade           3000 non-null   category\n",
      "dtypes: category(2), int64(11)\n",
      "memory usage: 264.1 KB\n"
     ]
    }
   ],
   "source": [
    "df.info()"
   ]
  },
  {
   "cell_type": "code",
   "execution_count": 12,
   "id": "a6be4419",
   "metadata": {},
   "outputs": [
    {
     "name": "stdout",
     "output_type": "stream",
     "text": [
      "categorical    continuous\n",
      "-------------  --------------\n",
      "roof           Area(total)\n",
      "Grade          Trooms\n",
      "               Nbedrooms\n",
      "               Nbwashrooms\n",
      "               Twashrooms\n",
      "               Roof(Area)\n",
      "               Lawn(Area)\n",
      "               Nfloors\n",
      "               API\n",
      "               ANB\n",
      "               Expected price\n"
     ]
    }
   ],
   "source": [
    "# Saparating Categorical and Continuous columns\n",
    "\n",
    "a = df.select_dtypes(exclude = 'category')\n",
    "b = df.select_dtypes(include = 'category')\n",
    "\n",
    "a_lst = list(a.columns)\n",
    "b_lst = list(b.columns)\n",
    "\n",
    "table = [b_lst, a_lst]\n",
    "\n",
    "print(tabulate({'Categorical':b_lst, 'Continuous':a_lst}, \n",
    "               headers = ['categorical', 'continuous']))"
   ]
  },
  {
   "cell_type": "markdown",
   "id": "a7d443d0",
   "metadata": {},
   "source": [
    "#### EDA"
   ]
  },
  {
   "cell_type": "code",
   "execution_count": 16,
   "id": "573f9b4a",
   "metadata": {},
   "outputs": [
    {
     "data": {
      "image/png": "[encoded data removed]",
      "text/plain": [
       "<Figure size 864x576 with 1 Axes>"
      ]
     },
     "metadata": {},
     "output_type": "display_data"
    }
   ],
   "source": [
    "fig, ax = plt.subplots(figsize = (12,8))\n",
    "ax.set_title(\"House Grade\")\n",
    "percentage = df['Grade'].value_counts()\n",
    "labels = list(df['Grade'].value_counts().index)\n",
    "plt.pie(percentage, labels = labels, autopct = '%0.2f%%', explode = (0.1,0.1,0,0,0))\n",
    "plt.show()"
   ]
  },
  {
   "cell_type": "code",
   "execution_count": 28,
   "id": "b9f150f4",
   "metadata": {},
   "outputs": [
    {
     "data": {
      "text/plain": [
       "Text(0.5, 1.0, 'Expected Price')"
      ]
     },
     "execution_count": 28,
     "metadata": {},
     "output_type": "execute_result"
    },
    {
     "data": {
      "image/png": "[encoded data removed]",
      "text/plain": [
       "<Figure size 864x576 with 1 Axes>"
      ]
     },
     "metadata": {
      "needs_background": "light"
     },
     "output_type": "display_data"
    }
   ],
   "source": [
    "plt.figure(figsize = (12,8))\n",
    "sns.histplot(x = df['Expected price'], kde = True, color = 'brown')\n",
    "plt.title(\"Expected Price\")"
   ]
  },
  {
   "cell_type": "code",
   "execution_count": 27,
   "id": "81f833c4",
   "metadata": {},
   "outputs": [
    {
     "data": {
      "text/plain": [
       "Text(0.5, 1.0, 'Grade and Trooms')"
      ]
     },
     "execution_count": 27,
     "metadata": {},
     "output_type": "execute_result"
    },
    {
     "data": {
      "image/png": "[encoded data removed]",
      "text/plain": [
       "<Figure size 864x576 with 1 Axes>"
      ]
     },
     "metadata": {
      "needs_background": "light"
     },
     "output_type": "display_data"
    }
   ],
   "source": [
    "plt.figure(figsize = (12,8))\n",
    "sns.barplot(data = df, x = 'Grade', y = 'Trooms', palette = 'cool', ci = True)\n",
    "plt.title(\"Grade and Trooms\")"
   ]
  },
  {
   "cell_type": "code",
   "execution_count": 29,
   "id": "96109ecb",
   "metadata": {},
   "outputs": [
    {
     "data": {
      "text/plain": [
       "Text(0.5, 1.0, 'Grade and Expected Price')"
      ]
     },
     "execution_count": 29,
     "metadata": {},
     "output_type": "execute_result"
    },
    {
     "data": {
      "image/png": "[encoded data removed]",
      "text/plain": [
       "<Figure size 864x576 with 1 Axes>"
      ]
     },
     "metadata": {
      "needs_background": "light"
     },
     "output_type": "display_data"
    }
   ],
   "source": [
    "plt.figure(figsize = (12,8))\n",
    "sns.barplot(data = df, x = 'Grade', y = 'Expected price', palette = 'cool')\n",
    "plt.title(\"Grade and Expected Price\")"
   ]
  },
  {
   "cell_type": "code",
   "execution_count": 25,
   "id": "5be1915a",
   "metadata": {},
   "outputs": [
    {
     "data": {
      "text/plain": [
       "Text(0.5, 1.0, 'Grade vs Expected Price with respect to Trooms')"
      ]
     },
     "execution_count": 25,
     "metadata": {},
     "output_type": "execute_result"
    },
    {
     "data": {
      "image/png": "[encoded data removed]",
      "text/plain": [
       "<Figure size 864x576 with 1 Axes>"
      ]
     },
     "metadata": {
      "needs_background": "light"
     },
     "output_type": "display_data"
    }
   ],
   "source": [
    "plt.figure(figsize = (12,8))\n",
    "sns.barplot(data = df, x = 'Grade', y = 'Expected price', hue = 'Trooms', ci = True, palette = 'cool')\n",
    "plt.title(\"Grade vs Expected Price with respect to Trooms\")"
   ]
  },
  {
   "cell_type": "code",
   "execution_count": 26,
   "id": "7bf6af79",
   "metadata": {},
   "outputs": [
    {
     "data": {
      "text/plain": [
       "Text(0.5, 1.0, 'Grade vs Expected Price with respect to Nfloors')"
      ]
     },
     "execution_count": 26,
     "metadata": {},
     "output_type": "execute_result"
    },
    {
     "data": {
      "image/png": "[encoded data removed]",
      "text/plain": [
       "<Figure size 864x576 with 1 Axes>"
      ]
     },
     "metadata": {
      "needs_background": "light"
     },
     "output_type": "display_data"
    }
   ],
   "source": [
    "plt.figure(figsize = (12,8))\n",
    "sns.barplot(data = df, x = 'Grade', y = 'Expected price', hue = 'Nfloors', ci = True, palette = 'cool')\n",
    "plt.title(\"Grade vs Expected Price with respect to Nfloors\")"
   ]
  },
  {
   "cell_type": "code",
   "execution_count": 32,
   "id": "1fcc8284",
   "metadata": {},
   "outputs": [
    {
     "data": {
      "text/plain": [
       "Text(0.5, 1.0, 'Grade and Lawn-Area')"
      ]
     },
     "execution_count": 32,
     "metadata": {},
     "output_type": "execute_result"
    },
    {
     "data": {
      "image/png": "[encoded data removed]",
      "text/plain": [
       "<Figure size 432x288 with 1 Axes>"
      ]
     },
     "metadata": {
      "needs_background": "light"
     },
     "output_type": "display_data"
    }
   ],
   "source": [
    "plt.plot(figsize = (12,8))\n",
    "sns.boxplot(x = df['Grade'] , y = df['Lawn(Area)'], palette = 'cool')\n",
    "plt.title(\"Grade and Lawn-Area\")"
   ]
  },
  {
   "cell_type": "markdown",
   "id": "8dbca63e",
   "metadata": {},
   "source": [
    "#### Label Encoder"
   ]
  },
  {
   "cell_type": "code",
   "execution_count": 33,
   "id": "592f4ddc",
   "metadata": {},
   "outputs": [
    {
     "data": {
      "text/html": [
       "<div>\n",
       "<style scoped>\n",
       "    .dataframe tbody tr th:only-of-type {\n",
       "        vertical-align: middle;\n",
       "    }\n",
       "\n",
       "    .dataframe tbody tr th {\n",
       "        vertical-align: top;\n",
       "    }\n",
       "\n",
       "    .dataframe thead th {\n",
       "        text-align: right;\n",
       "    }\n",
       "</style>\n",
       "<table border=\"1\" class=\"dataframe\">\n",
       "  <thead>\n",
       "    <tr style=\"text-align: right;\">\n",
       "      <th></th>\n",
       "      <th>Area(total)</th>\n",
       "      <th>Trooms</th>\n",
       "      <th>Nbedrooms</th>\n",
       "      <th>Nbwashrooms</th>\n",
       "      <th>Twashrooms</th>\n",
       "      <th>roof</th>\n",
       "      <th>Roof(Area)</th>\n",
       "      <th>Lawn(Area)</th>\n",
       "      <th>Nfloors</th>\n",
       "      <th>API</th>\n",
       "      <th>ANB</th>\n",
       "      <th>Expected price</th>\n",
       "      <th>Grade</th>\n",
       "    </tr>\n",
       "  </thead>\n",
       "  <tbody>\n",
       "    <tr>\n",
       "      <th>0</th>\n",
       "      <td>339</td>\n",
       "      <td>6</td>\n",
       "      <td>5</td>\n",
       "      <td>4</td>\n",
       "      <td>6</td>\n",
       "      <td>0</td>\n",
       "      <td>0</td>\n",
       "      <td>76</td>\n",
       "      <td>2</td>\n",
       "      <td>79</td>\n",
       "      <td>6</td>\n",
       "      <td>3481</td>\n",
       "      <td>3</td>\n",
       "    </tr>\n",
       "    <tr>\n",
       "      <th>1</th>\n",
       "      <td>358</td>\n",
       "      <td>5</td>\n",
       "      <td>4</td>\n",
       "      <td>3</td>\n",
       "      <td>4</td>\n",
       "      <td>1</td>\n",
       "      <td>71</td>\n",
       "      <td>96</td>\n",
       "      <td>3</td>\n",
       "      <td>72</td>\n",
       "      <td>4</td>\n",
       "      <td>3510</td>\n",
       "      <td>3</td>\n",
       "    </tr>\n",
       "    <tr>\n",
       "      <th>2</th>\n",
       "      <td>324</td>\n",
       "      <td>7</td>\n",
       "      <td>5</td>\n",
       "      <td>4</td>\n",
       "      <td>5</td>\n",
       "      <td>1</td>\n",
       "      <td>101</td>\n",
       "      <td>117</td>\n",
       "      <td>5</td>\n",
       "      <td>64</td>\n",
       "      <td>3</td>\n",
       "      <td>3748</td>\n",
       "      <td>2</td>\n",
       "    </tr>\n",
       "    <tr>\n",
       "      <th>3</th>\n",
       "      <td>330</td>\n",
       "      <td>6</td>\n",
       "      <td>4</td>\n",
       "      <td>3</td>\n",
       "      <td>5</td>\n",
       "      <td>1</td>\n",
       "      <td>101</td>\n",
       "      <td>82</td>\n",
       "      <td>2</td>\n",
       "      <td>59</td>\n",
       "      <td>2</td>\n",
       "      <td>3134</td>\n",
       "      <td>3</td>\n",
       "    </tr>\n",
       "    <tr>\n",
       "      <th>4</th>\n",
       "      <td>320</td>\n",
       "      <td>7</td>\n",
       "      <td>4</td>\n",
       "      <td>4</td>\n",
       "      <td>5</td>\n",
       "      <td>0</td>\n",
       "      <td>0</td>\n",
       "      <td>75</td>\n",
       "      <td>3</td>\n",
       "      <td>40</td>\n",
       "      <td>1</td>\n",
       "      <td>3843</td>\n",
       "      <td>3</td>\n",
       "    </tr>\n",
       "    <tr>\n",
       "      <th>...</th>\n",
       "      <td>...</td>\n",
       "      <td>...</td>\n",
       "      <td>...</td>\n",
       "      <td>...</td>\n",
       "      <td>...</td>\n",
       "      <td>...</td>\n",
       "      <td>...</td>\n",
       "      <td>...</td>\n",
       "      <td>...</td>\n",
       "      <td>...</td>\n",
       "      <td>...</td>\n",
       "      <td>...</td>\n",
       "      <td>...</td>\n",
       "    </tr>\n",
       "    <tr>\n",
       "      <th>2995</th>\n",
       "      <td>341</td>\n",
       "      <td>9</td>\n",
       "      <td>6</td>\n",
       "      <td>5</td>\n",
       "      <td>7</td>\n",
       "      <td>1</td>\n",
       "      <td>95</td>\n",
       "      <td>115</td>\n",
       "      <td>5</td>\n",
       "      <td>90</td>\n",
       "      <td>2</td>\n",
       "      <td>4246</td>\n",
       "      <td>1</td>\n",
       "    </tr>\n",
       "    <tr>\n",
       "      <th>2996</th>\n",
       "      <td>292</td>\n",
       "      <td>9</td>\n",
       "      <td>8</td>\n",
       "      <td>7</td>\n",
       "      <td>8</td>\n",
       "      <td>1</td>\n",
       "      <td>116</td>\n",
       "      <td>87</td>\n",
       "      <td>7</td>\n",
       "      <td>97</td>\n",
       "      <td>4</td>\n",
       "      <td>3753</td>\n",
       "      <td>0</td>\n",
       "    </tr>\n",
       "    <tr>\n",
       "      <th>2997</th>\n",
       "      <td>328</td>\n",
       "      <td>7</td>\n",
       "      <td>4</td>\n",
       "      <td>3</td>\n",
       "      <td>5</td>\n",
       "      <td>0</td>\n",
       "      <td>0</td>\n",
       "      <td>78</td>\n",
       "      <td>5</td>\n",
       "      <td>95</td>\n",
       "      <td>6</td>\n",
       "      <td>3607</td>\n",
       "      <td>3</td>\n",
       "    </tr>\n",
       "    <tr>\n",
       "      <th>2998</th>\n",
       "      <td>293</td>\n",
       "      <td>9</td>\n",
       "      <td>7</td>\n",
       "      <td>7</td>\n",
       "      <td>8</td>\n",
       "      <td>0</td>\n",
       "      <td>0</td>\n",
       "      <td>78</td>\n",
       "      <td>7</td>\n",
       "      <td>51</td>\n",
       "      <td>3</td>\n",
       "      <td>4198</td>\n",
       "      <td>1</td>\n",
       "    </tr>\n",
       "    <tr>\n",
       "      <th>2999</th>\n",
       "      <td>343</td>\n",
       "      <td>7</td>\n",
       "      <td>6</td>\n",
       "      <td>6</td>\n",
       "      <td>8</td>\n",
       "      <td>0</td>\n",
       "      <td>0</td>\n",
       "      <td>108</td>\n",
       "      <td>5</td>\n",
       "      <td>95</td>\n",
       "      <td>3</td>\n",
       "      <td>4105</td>\n",
       "      <td>2</td>\n",
       "    </tr>\n",
       "  </tbody>\n",
       "</table>\n",
       "<p>3000 rows × 13 columns</p>\n",
       "</div>"
      ],
      "text/plain": [
       "      Area(total)  Trooms  Nbedrooms  Nbwashrooms  Twashrooms  roof  \\\n",
       "0             339       6          5            4           6     0   \n",
       "1             358       5          4            3           4     1   \n",
       "2             324       7          5            4           5     1   \n",
       "3             330       6          4            3           5     1   \n",
       "4             320       7          4            4           5     0   \n",
       "...           ...     ...        ...          ...         ...   ...   \n",
       "2995          341       9          6            5           7     1   \n",
       "2996          292       9          8            7           8     1   \n",
       "2997          328       7          4            3           5     0   \n",
       "2998          293       9          7            7           8     0   \n",
       "2999          343       7          6            6           8     0   \n",
       "\n",
       "      Roof(Area)  Lawn(Area)  Nfloors  API  ANB  Expected price  Grade  \n",
       "0              0          76        2   79    6            3481      3  \n",
       "1             71          96        3   72    4            3510      3  \n",
       "2            101         117        5   64    3            3748      2  \n",
       "3            101          82        2   59    2            3134      3  \n",
       "4              0          75        3   40    1            3843      3  \n",
       "...          ...         ...      ...  ...  ...             ...    ...  \n",
       "2995          95         115        5   90    2            4246      1  \n",
       "2996         116          87        7   97    4            3753      0  \n",
       "2997           0          78        5   95    6            3607      3  \n",
       "2998           0          78        7   51    3            4198      1  \n",
       "2999           0         108        5   95    3            4105      2  \n",
       "\n",
       "[3000 rows x 13 columns]"
      ]
     },
     "execution_count": 33,
     "metadata": {},
     "output_type": "execute_result"
    }
   ],
   "source": [
    "lb_en = preprocessing.LabelEncoder()\n",
    "df['roof'] = lb_en.fit_transform(df['roof'])\n",
    "df['Grade'] = lb_en.fit_transform(df['Grade'])\n",
    "df"
   ]
  },
  {
   "cell_type": "code",
   "execution_count": 35,
   "id": "a7a46bdd",
   "metadata": {},
   "outputs": [
    {
     "data": {
      "image/png": "[encoded data removed]",
      "text/plain": [
       "<Figure size 864x576 with 2 Axes>"
      ]
     },
     "metadata": {
      "needs_background": "light"
     },
     "output_type": "display_data"
    }
   ],
   "source": [
    "plt.figure(figsize = (12,8))\n",
    "cor = sns.heatmap(df.corr(), annot = True)\n",
    "cor.set_title(\"Correlation of House Grade\");"
   ]
  },
  {
   "cell_type": "code",
   "execution_count": 42,
   "id": "0d2aba84",
   "metadata": {},
   "outputs": [],
   "source": [
    "# Separating Dependent Columns to Independent Columns\n",
    "\n",
    "x = df.drop(columns = 'Grade').to_numpy()\n",
    "y = df['Grade'].to_numpy()"
   ]
  },
  {
   "cell_type": "code",
   "execution_count": 43,
   "id": "cc3a9b46",
   "metadata": {},
   "outputs": [],
   "source": [
    "# Splitting Data\n",
    "\n",
    "cv = RepeatedStratifiedKFold(n_splits = 3, n_repeats = 3, random_state = 1)\n",
    "for train, test in cv.split(x,y):\n",
    "    x_train, x_test = x[train], x[test]\n",
    "    y_train, y_test = y[train], y[test]"
   ]
  },
  {
   "cell_type": "code",
   "execution_count": 44,
   "id": "a6368606",
   "metadata": {},
   "outputs": [
    {
     "name": "stdout",
     "output_type": "stream",
     "text": [
      "X-Train values : (2000, 12)\n",
      "X-Test values : (1000, 12)\n",
      "Y-Train values : (2000,)\n",
      "Y-Test values : (1000,)\n"
     ]
    }
   ],
   "source": [
    "print('X-Train values :',x_train.shape)\n",
    "print('X-Test values :',x_test.shape)\n",
    "print('Y-Train values :',y_train.shape)\n",
    "print('Y-Test values :',y_test.shape)"
   ]
  },
  {
   "cell_type": "markdown",
   "id": "4a00a6fe",
   "metadata": {},
   "source": [
    "#### Logistic Regression"
   ]
  },
  {
   "cell_type": "code",
   "execution_count": 45,
   "id": "fa736620",
   "metadata": {},
   "outputs": [
    {
     "data": {
      "text/plain": [
       "array([3, 2, 1, 3, 1, 3, 1, 3, 1, 3, 2, 2, 1, 1, 1, 2, 1, 3, 3, 3, 3, 3,\n",
       "       2, 3, 1, 2, 3, 3, 1, 2, 2, 3, 3, 1, 3, 3, 2, 3, 3, 3, 3, 3, 3, 3,\n",
       "       2, 3, 1, 3, 3, 3, 3, 3, 2, 1, 1, 3, 3, 3, 1, 3, 2, 2, 2, 2, 3, 0,\n",
       "       3, 3, 1, 2, 3, 3, 2, 3, 3, 3, 3, 0, 2, 3, 0, 1, 3, 3, 3, 3, 3, 2,\n",
       "       2, 2, 2, 3, 3, 3, 1, 2, 3, 3, 2, 1, 1, 3, 1, 1, 2, 2, 1, 3, 2, 3,\n",
       "       2, 3, 1, 0, 2, 3, 3, 2, 3, 3, 3, 1, 3, 3, 3, 3, 0, 2, 0, 3, 3, 3,\n",
       "       3, 0, 3, 3, 2, 0, 3, 3, 3, 1, 1, 2, 3, 3, 1, 1, 2, 2, 2, 1, 3, 2,\n",
       "       3, 3, 3, 3, 0, 2, 0, 2, 2, 3, 3, 0, 0, 0, 2, 2, 3, 2, 2, 2, 2, 3,\n",
       "       3, 3, 0, 0, 1, 1, 0, 0, 2, 3, 0, 0, 3, 3, 1, 3, 3, 3, 1, 0, 2, 1,\n",
       "       3, 3, 3, 2, 1, 3, 2, 1, 0, 0, 2, 2, 2, 2, 3, 3, 3, 3, 1, 3, 1, 0,\n",
       "       3, 3, 0, 2, 3, 3, 3, 3, 0, 1, 3, 0, 3, 2, 3, 0, 3, 3, 2, 3, 3, 1,\n",
       "       3, 0, 2, 0, 3, 3, 2, 0, 3, 2, 3, 1, 3, 3, 3, 1, 3, 3, 0, 1, 3, 1,\n",
       "       0, 1, 3, 1, 0, 3, 3, 3, 3, 3, 3, 1, 3, 3, 1, 3, 1, 3, 3, 2, 3, 0,\n",
       "       3, 3, 3, 1, 1, 1, 2, 3, 3, 2, 3, 3, 3, 3, 3, 3, 3, 2, 3, 2, 1, 2,\n",
       "       2, 3, 3, 3, 3, 3, 3, 3, 0, 3, 0, 2, 2, 1, 3, 1, 3, 3, 3, 3, 3, 2,\n",
       "       3, 2, 3, 3, 0, 3, 3, 3, 3, 2, 3, 2, 0, 2, 1, 1, 0, 3, 2, 2, 3, 3,\n",
       "       2, 3, 3, 3, 1, 3, 0, 2, 3, 1, 2, 1, 3, 3, 2, 2, 3, 2, 3, 2, 2, 3,\n",
       "       2, 3, 1, 3, 1, 2, 0, 2, 2, 1, 3, 3, 3, 3, 3, 3, 2, 3, 3, 1, 3, 2,\n",
       "       2, 2, 3, 3, 2, 2, 1, 3, 0, 1, 3, 3, 3, 1, 2, 3, 3, 3, 0, 1, 1, 3,\n",
       "       3, 3, 2, 3, 0, 3, 3, 2, 0, 3, 3, 2, 3, 0, 3, 2, 3, 3, 0, 3, 3, 3,\n",
       "       0, 3, 1, 3, 3, 3, 1, 1, 3, 3, 1, 0, 3, 1, 3, 3, 3, 1, 3, 0, 3, 2,\n",
       "       3, 3, 3, 3, 3, 3, 2, 3, 3, 0, 3, 0, 3, 1, 3, 3, 3, 3, 3, 3, 3, 2,\n",
       "       3, 1, 2, 0, 3, 0, 3, 1, 1, 3, 2, 0, 2, 0, 3, 3, 3, 1, 3, 3, 3, 3,\n",
       "       0, 2, 3, 3, 1, 2, 3, 2, 3, 3, 3, 3, 2, 3, 3, 0, 1, 0, 2, 3, 0, 1,\n",
       "       2, 2, 3, 3, 2, 1, 3, 3, 3, 3, 1, 3, 0, 1, 1, 3, 3, 1, 3, 3, 3, 3,\n",
       "       3, 1, 2, 3, 0, 1, 2, 3, 2, 3, 2, 3, 3, 2, 3, 1, 0, 1, 3, 3, 3, 3,\n",
       "       2, 3, 2, 3, 3, 3, 3, 3, 3, 3, 2, 0, 3, 3, 3, 2, 0, 1, 2, 3, 3, 1,\n",
       "       3, 3, 1, 2, 3, 2, 1, 2, 3, 0, 2, 3, 0, 3, 3, 3, 3, 0, 3, 1, 3, 3,\n",
       "       3, 1, 3, 3, 2, 2, 3, 3, 1, 3, 2, 2, 3, 2, 3, 3, 3, 3, 3, 2, 3, 0,\n",
       "       1, 2, 3, 1, 3, 3, 2, 3, 1, 3, 2, 1, 3, 0, 3, 0, 0, 3, 3, 3, 3, 3,\n",
       "       3, 0, 3, 3, 2, 3, 3, 3, 3, 1, 0, 1, 1, 3, 0, 2, 2, 1, 3, 1, 2, 3,\n",
       "       0, 2, 3, 3, 1, 0, 3, 1, 3, 3, 0, 3, 3, 3, 3, 3, 2, 3, 2, 0, 3, 2,\n",
       "       3, 3, 2, 0, 3, 1, 0, 2, 0, 0, 2, 3, 3, 3, 1, 1, 1, 3, 0, 1, 3, 1,\n",
       "       3, 2, 3, 2, 3, 0, 1, 3, 1, 3, 1, 3, 0, 1, 3, 3, 3, 3, 3, 1, 0, 2,\n",
       "       2, 3, 2, 3, 0, 0, 3, 2, 3, 3, 1, 3, 0, 3, 2, 1, 3, 1, 1, 3, 1, 3,\n",
       "       1, 3, 0, 3, 1, 2, 2, 3, 3, 3, 2, 3, 2, 1, 3, 1, 1, 3, 1, 2, 2, 0,\n",
       "       1, 1, 2, 3, 1, 3, 3, 1, 0, 2, 2, 3, 0, 3, 2, 2, 3, 0, 2, 1, 2, 2,\n",
       "       3, 3, 3, 3, 1, 0, 3, 2, 1, 1, 3, 3, 2, 1, 1, 1, 3, 2, 0, 1, 2, 1,\n",
       "       3, 1, 2, 3, 3, 1, 3, 3, 1, 3, 2, 0, 0, 1, 3, 3, 0, 3, 3, 3, 3, 3,\n",
       "       1, 3, 3, 2, 2, 3, 3, 3, 3, 1, 3, 3, 3, 3, 3, 3, 2, 3, 2, 1, 2, 2,\n",
       "       3, 0, 3, 3, 2, 1, 3, 3, 3, 3, 2, 3, 3, 3, 3, 2, 3, 3, 3, 3, 3, 2,\n",
       "       3, 3, 3, 0, 2, 3, 0, 3, 1, 1, 2, 2, 3, 1, 3, 2, 3, 3, 0, 3, 0, 3,\n",
       "       3, 3, 3, 2, 2, 3, 3, 2, 2, 2, 2, 0, 3, 2, 0, 0, 3, 3, 0, 3, 3, 1,\n",
       "       1, 3, 2, 1, 1, 0, 0, 3, 3, 0, 0, 3, 3, 2, 1, 2, 3, 3, 3, 3, 3, 2,\n",
       "       3, 3, 3, 3, 3, 2, 3, 3, 2, 3, 2, 3, 0, 3, 2, 2, 0, 3, 1, 3, 2, 2,\n",
       "       3, 1, 3, 3, 1, 2, 3, 3, 3, 3])"
      ]
     },
     "execution_count": 45,
     "metadata": {},
     "output_type": "execute_result"
    }
   ],
   "source": [
    "model = LogisticRegression()\n",
    "classifier = model.fit(x_train, y_train)     # fit the model\n",
    "y_pred = classifier.predict(x_test)          # predicting the values\n",
    "y_pred "
   ]
  },
  {
   "cell_type": "code",
   "execution_count": 48,
   "id": "1b79db14",
   "metadata": {},
   "outputs": [],
   "source": [
    "scoring = ['f1_weighted','accuracy','precision_weighted','recall_weighted']\n",
    "scores = cross_validate(model, x, y, scoring = scoring, cv = cv) # model evaluation"
   ]
  },
  {
   "cell_type": "code",
   "execution_count": 52,
   "id": "298f29ce",
   "metadata": {},
   "outputs": [
    {
     "name": "stdout",
     "output_type": "stream",
     "text": [
      "Accuracy:0.5452222222222223\n",
      "F1-Score:0.5226535319227916\n",
      "Precision:0.5077136775999471\n",
      "Recall:0.5452222222222223\n"
     ]
    }
   ],
   "source": [
    "ms1 = (scores['test_accuracy'])\n",
    "ms2 = (scores['test_f1_weighted'])\n",
    "ms3 = (scores['test_precision_weighted'])\n",
    "ms4 = (scores['test_recall_weighted'])\n",
    "\n",
    "print(f'''Accuracy:{mean(ms1)}\\nF1-Score:{mean(ms2)}\\nPrecision:{mean(ms3)}\\nRecall:{mean(ms4)}''')"
   ]
  },
  {
   "cell_type": "code",
   "execution_count": 53,
   "id": "9267f823",
   "metadata": {},
   "outputs": [
    {
     "name": "stdout",
     "output_type": "stream",
     "text": [
      "{'fit_time': array([0.23561525, 0.19653893, 0.2236011 , 0.20817518, 0.26037931,\n",
      "       0.20300817, 0.2265048 , 0.22133708, 0.21557403]), 'score_time': array([0.03243303, 0.01677966, 0.02201009, 0.01782441, 0.02228951,\n",
      "       0.01676512, 0.0092566 , 0.00575638, 0.00712061]), 'test_f1_weighted': array([0.51448987, 0.51452575, 0.52110987, 0.52300714, 0.53167476,\n",
      "       0.5186885 , 0.52616717, 0.5333749 , 0.52084383]), 'test_accuracy': array([0.537, 0.537, 0.548, 0.549, 0.555, 0.537, 0.545, 0.555, 0.544]), 'test_precision_weighted': array([0.49849116, 0.50003042, 0.50516697, 0.50687922, 0.51718497,\n",
      "       0.50526385, 0.51283031, 0.51824702, 0.50532918]), 'test_recall_weighted': array([0.537, 0.537, 0.548, 0.549, 0.555, 0.537, 0.545, 0.555, 0.544])}\n"
     ]
    }
   ],
   "source": [
    "print(scores)"
   ]
  },
  {
   "cell_type": "markdown",
   "id": "7d7c2b39",
   "metadata": {},
   "source": [
    "#### Random Forest Classifier"
   ]
  },
  {
   "cell_type": "code",
   "execution_count": 54,
   "id": "0cbd6774",
   "metadata": {},
   "outputs": [
    {
     "data": {
      "text/plain": [
       "array([3, 3, 0, 4, 1, 3, 0, 3, 1, 3, 1, 1, 2, 0, 1, 0, 2, 3, 3, 3, 3, 3,\n",
       "       1, 3, 0, 2, 2, 4, 2, 2, 3, 2, 3, 0, 3, 3, 1, 3, 3, 4, 2, 2, 3, 3,\n",
       "       1, 4, 2, 3, 3, 3, 1, 3, 2, 2, 1, 3, 2, 3, 1, 3, 1, 1, 2, 1, 3, 0,\n",
       "       3, 3, 1, 3, 3, 1, 1, 3, 3, 2, 2, 0, 2, 4, 0, 0, 3, 3, 3, 3, 3, 0,\n",
       "       2, 3, 2, 3, 3, 3, 0, 2, 3, 2, 3, 1, 1, 3, 0, 0, 2, 1, 0, 3, 2, 3,\n",
       "       0, 3, 2, 1, 3, 3, 3, 2, 2, 2, 2, 1, 2, 3, 3, 4, 0, 2, 0, 2, 1, 3,\n",
       "       3, 2, 3, 3, 3, 1, 3, 3, 2, 1, 1, 2, 3, 3, 1, 1, 2, 2, 1, 1, 3, 1,\n",
       "       3, 3, 3, 3, 0, 2, 1, 3, 3, 3, 3, 0, 0, 0, 1, 3, 3, 1, 2, 0, 2, 3,\n",
       "       3, 2, 0, 1, 2, 2, 0, 1, 2, 3, 0, 0, 3, 3, 1, 3, 3, 2, 1, 0, 1, 3,\n",
       "       3, 3, 3, 2, 1, 1, 3, 0, 0, 1, 0, 2, 1, 2, 3, 3, 3, 3, 1, 3, 1, 2,\n",
       "       2, 3, 3, 0, 3, 3, 3, 3, 2, 0, 3, 0, 3, 2, 3, 0, 3, 3, 1, 3, 3, 2,\n",
       "       3, 1, 1, 2, 3, 2, 1, 0, 3, 2, 3, 0, 3, 2, 2, 1, 3, 2, 0, 0, 2, 0,\n",
       "       1, 0, 3, 0, 0, 3, 1, 3, 3, 3, 3, 0, 3, 3, 1, 3, 1, 3, 1, 0, 3, 0,\n",
       "       3, 3, 3, 0, 1, 2, 1, 3, 3, 2, 3, 3, 2, 4, 3, 3, 2, 2, 3, 3, 1, 2,\n",
       "       2, 2, 3, 3, 2, 3, 3, 3, 1, 3, 0, 1, 1, 2, 3, 0, 2, 3, 3, 3, 2, 3,\n",
       "       0, 2, 2, 2, 1, 2, 3, 3, 3, 2, 3, 0, 0, 2, 3, 1, 0, 3, 0, 2, 3, 3,\n",
       "       2, 3, 3, 3, 0, 3, 0, 1, 3, 0, 3, 2, 4, 3, 2, 2, 2, 2, 3, 1, 3, 3,\n",
       "       3, 3, 2, 3, 2, 0, 1, 2, 3, 2, 2, 3, 2, 3, 3, 3, 0, 3, 3, 2, 3, 3,\n",
       "       1, 1, 3, 3, 1, 3, 2, 3, 0, 1, 3, 3, 3, 1, 1, 3, 1, 3, 0, 2, 1, 3,\n",
       "       1, 3, 2, 3, 1, 3, 3, 3, 1, 3, 3, 1, 3, 0, 3, 2, 2, 2, 1, 2, 2, 3,\n",
       "       0, 3, 1, 3, 2, 2, 0, 1, 3, 3, 1, 1, 3, 1, 1, 3, 3, 2, 3, 1, 3, 2,\n",
       "       2, 3, 2, 3, 3, 3, 3, 3, 3, 1, 3, 0, 3, 1, 3, 3, 3, 3, 3, 3, 3, 1,\n",
       "       3, 1, 3, 1, 3, 2, 2, 3, 1, 3, 3, 0, 3, 1, 2, 3, 3, 1, 3, 3, 3, 3,\n",
       "       0, 2, 3, 3, 0, 3, 3, 1, 3, 3, 3, 3, 2, 3, 3, 1, 0, 0, 0, 2, 0, 1,\n",
       "       0, 3, 3, 3, 3, 0, 3, 2, 3, 3, 1, 3, 0, 2, 2, 3, 3, 0, 3, 3, 2, 3,\n",
       "       2, 2, 2, 3, 0, 2, 1, 3, 2, 1, 3, 2, 3, 1, 3, 2, 1, 1, 3, 3, 3, 2,\n",
       "       1, 3, 0, 2, 3, 3, 3, 2, 3, 3, 3, 2, 3, 3, 2, 1, 1, 2, 3, 3, 2, 2,\n",
       "       3, 3, 3, 3, 3, 1, 3, 2, 3, 0, 1, 3, 0, 3, 2, 3, 2, 1, 3, 1, 3, 2,\n",
       "       2, 1, 2, 3, 1, 1, 3, 3, 0, 3, 3, 2, 2, 2, 3, 3, 3, 3, 4, 2, 3, 0,\n",
       "       0, 3, 2, 2, 3, 3, 2, 3, 0, 3, 2, 1, 3, 0, 3, 1, 0, 3, 3, 2, 3, 3,\n",
       "       3, 1, 2, 4, 2, 2, 3, 2, 3, 2, 0, 0, 3, 3, 2, 2, 1, 1, 3, 0, 2, 3,\n",
       "       2, 0, 3, 2, 1, 0, 3, 0, 3, 3, 0, 3, 3, 3, 3, 3, 0, 3, 1, 1, 3, 2,\n",
       "       3, 3, 0, 1, 3, 1, 0, 2, 1, 1, 2, 2, 3, 3, 3, 2, 1, 3, 0, 2, 2, 1,\n",
       "       3, 1, 1, 1, 3, 2, 1, 3, 0, 1, 1, 3, 2, 2, 2, 3, 4, 3, 3, 0, 1, 0,\n",
       "       1, 3, 2, 3, 0, 0, 3, 0, 3, 2, 2, 3, 0, 3, 3, 0, 2, 0, 1, 2, 0, 2,\n",
       "       2, 3, 1, 1, 0, 0, 1, 3, 3, 3, 3, 3, 2, 0, 3, 0, 1, 2, 1, 1, 1, 0,\n",
       "       1, 3, 2, 2, 1, 3, 1, 2, 2, 3, 1, 3, 1, 3, 1, 2, 3, 1, 1, 1, 1, 0,\n",
       "       3, 3, 3, 2, 1, 0, 3, 2, 0, 0, 3, 3, 2, 1, 0, 2, 3, 0, 1, 2, 2, 1,\n",
       "       3, 0, 1, 3, 2, 0, 3, 3, 1, 3, 0, 1, 2, 2, 4, 2, 2, 3, 3, 2, 3, 3,\n",
       "       1, 3, 3, 3, 1, 3, 3, 2, 2, 2, 2, 2, 2, 3, 3, 2, 2, 3, 3, 1, 3, 3,\n",
       "       3, 1, 2, 2, 2, 1, 3, 3, 2, 3, 0, 3, 3, 2, 3, 0, 3, 3, 2, 3, 3, 3,\n",
       "       1, 3, 3, 0, 1, 3, 0, 3, 0, 0, 1, 1, 3, 2, 3, 3, 3, 3, 0, 3, 0, 3,\n",
       "       3, 3, 2, 0, 3, 1, 3, 2, 2, 1, 2, 1, 3, 2, 1, 1, 1, 3, 1, 3, 3, 2,\n",
       "       3, 3, 2, 1, 0, 0, 0, 2, 3, 1, 0, 3, 3, 1, 2, 1, 3, 4, 3, 3, 2, 0,\n",
       "       3, 3, 3, 3, 3, 2, 3, 3, 0, 2, 2, 3, 1, 3, 0, 3, 2, 1, 1, 3, 2, 2,\n",
       "       4, 2, 2, 3, 1, 2, 2, 3, 3, 3])"
      ]
     },
     "execution_count": 54,
     "metadata": {},
     "output_type": "execute_result"
    }
   ],
   "source": [
    "model1 = RandomForestClassifier()\n",
    "classifier1 = model1.fit(x_train, y_train)      # fit the model\n",
    "y_pred1 = classifier1.predict(x_test)           # predicting the values\n",
    "y_pred1 "
   ]
  },
  {
   "cell_type": "code",
   "execution_count": 55,
   "id": "142e6c5c",
   "metadata": {},
   "outputs": [],
   "source": [
    "scores1 = cross_validate(model1, x, y, scoring = scoring, cv = cv)    # model evaluation"
   ]
  },
  {
   "cell_type": "code",
   "execution_count": 56,
   "id": "7c6fcf6f",
   "metadata": {},
   "outputs": [
    {
     "name": "stdout",
     "output_type": "stream",
     "text": [
      "Accuracy : 0.8938888888888888\n",
      "F1-Score : 0.8907718146920084\n",
      "Precision : 0.8948137844680164\n",
      "Recall : 0.8938888888888888\n"
     ]
    }
   ],
   "source": [
    "ms11 = (scores1['test_accuracy'])\n",
    "ms21 = (scores1['test_f1_weighted'])\n",
    "ms31 = (scores1['test_precision_weighted'])\n",
    "ms41 = (scores1['test_recall_weighted'])\n",
    "\n",
    "print(f'''Accuracy : {mean(ms11)}\\nF1-Score : {mean(ms21)}\\nPrecision : {mean(ms31)}\\nRecall : {mean(ms41)}''')"
   ]
  },
  {
   "cell_type": "markdown",
   "id": "84960f9c",
   "metadata": {},
   "source": [
    "#### AdaBoost Classifier"
   ]
  },
  {
   "cell_type": "code",
   "execution_count": 57,
   "id": "bf24956d",
   "metadata": {},
   "outputs": [
    {
     "data": {
      "text/plain": [
       "array([3, 3, 1, 4, 1, 3, 1, 3, 1, 4, 1, 1, 2, 1, 1, 1, 1, 4, 4, 3, 3, 3,\n",
       "       1, 3, 1, 2, 2, 4, 2, 3, 3, 2, 4, 1, 4, 3, 1, 3, 3, 4, 3, 3, 3, 4,\n",
       "       1, 4, 2, 4, 4, 3, 1, 3, 1, 1, 1, 3, 2, 3, 2, 3, 1, 1, 3, 1, 4, 1,\n",
       "       3, 4, 1, 3, 3, 1, 1, 4, 3, 3, 3, 1, 2, 3, 1, 1, 3, 4, 4, 4, 3, 1,\n",
       "       2, 3, 3, 3, 3, 3, 1, 2, 3, 2, 3, 1, 1, 3, 1, 1, 2, 1, 1, 3, 2, 4,\n",
       "       1, 3, 2, 1, 3, 3, 3, 3, 2, 2, 3, 1, 2, 3, 3, 4, 1, 1, 1, 2, 1, 3,\n",
       "       3, 2, 3, 3, 3, 1, 3, 3, 2, 1, 1, 2, 3, 3, 1, 1, 2, 1, 1, 1, 4, 1,\n",
       "       4, 3, 4, 3, 1, 3, 1, 3, 3, 3, 4, 1, 1, 1, 1, 2, 3, 1, 3, 1, 2, 3,\n",
       "       3, 3, 1, 1, 2, 2, 1, 1, 2, 4, 1, 1, 3, 3, 1, 3, 3, 2, 1, 1, 1, 3,\n",
       "       4, 3, 4, 1, 1, 1, 3, 1, 1, 1, 1, 2, 1, 3, 4, 4, 3, 3, 1, 3, 1, 1,\n",
       "       2, 3, 2, 1, 3, 4, 3, 4, 1, 1, 3, 1, 3, 3, 4, 1, 4, 4, 1, 3, 3, 2,\n",
       "       4, 1, 2, 1, 3, 2, 1, 1, 3, 2, 4, 1, 3, 1, 3, 1, 4, 3, 1, 1, 3, 1,\n",
       "       1, 1, 3, 1, 1, 4, 1, 4, 3, 4, 4, 1, 4, 3, 1, 4, 1, 3, 1, 1, 3, 1,\n",
       "       3, 3, 3, 1, 1, 2, 1, 4, 3, 3, 4, 3, 1, 4, 3, 3, 3, 1, 3, 3, 1, 2,\n",
       "       1, 1, 4, 3, 2, 3, 3, 4, 1, 3, 1, 1, 1, 2, 3, 1, 2, 4, 3, 3, 3, 3,\n",
       "       1, 3, 3, 3, 1, 3, 4, 4, 4, 1, 3, 1, 1, 2, 3, 1, 1, 3, 1, 3, 4, 3,\n",
       "       3, 3, 4, 3, 1, 4, 1, 1, 3, 1, 3, 3, 4, 3, 1, 2, 3, 3, 3, 1, 3, 3,\n",
       "       3, 3, 3, 4, 2, 1, 2, 2, 3, 2, 2, 3, 2, 4, 3, 4, 1, 3, 3, 2, 3, 3,\n",
       "       1, 1, 3, 4, 1, 3, 1, 4, 1, 1, 3, 3, 3, 1, 1, 3, 1, 3, 1, 2, 1, 3,\n",
       "       1, 4, 2, 3, 1, 3, 3, 3, 1, 4, 3, 1, 4, 1, 3, 3, 2, 3, 1, 2, 2, 3,\n",
       "       1, 3, 1, 3, 2, 2, 1, 1, 4, 3, 1, 1, 3, 1, 1, 3, 3, 1, 3, 1, 3, 3,\n",
       "       3, 3, 3, 4, 3, 3, 3, 3, 4, 1, 3, 1, 3, 1, 3, 3, 3, 4, 3, 4, 3, 1,\n",
       "       3, 1, 3, 1, 4, 1, 3, 3, 1, 4, 3, 1, 3, 1, 2, 3, 3, 1, 3, 3, 3, 3,\n",
       "       1, 3, 3, 3, 1, 3, 3, 1, 3, 3, 3, 3, 2, 4, 3, 1, 1, 1, 1, 2, 1, 1,\n",
       "       1, 3, 3, 4, 3, 1, 3, 2, 3, 3, 1, 3, 1, 2, 1, 3, 3, 1, 3, 3, 2, 4,\n",
       "       2, 2, 2, 3, 1, 2, 1, 4, 3, 1, 3, 1, 3, 1, 4, 3, 2, 1, 3, 3, 3, 2,\n",
       "       1, 4, 1, 2, 3, 3, 3, 3, 3, 3, 3, 1, 3, 3, 3, 1, 1, 2, 3, 3, 2, 2,\n",
       "       3, 4, 3, 4, 3, 1, 3, 3, 3, 1, 1, 3, 1, 4, 2, 3, 2, 1, 3, 1, 3, 3,\n",
       "       3, 1, 3, 3, 1, 1, 3, 3, 1, 3, 3, 2, 3, 3, 4, 4, 3, 3, 4, 3, 3, 1,\n",
       "       1, 3, 3, 2, 3, 3, 3, 3, 1, 3, 3, 1, 3, 1, 4, 1, 1, 3, 3, 3, 3, 4,\n",
       "       3, 1, 3, 4, 3, 1, 3, 2, 3, 1, 1, 1, 3, 3, 1, 2, 2, 2, 3, 1, 2, 3,\n",
       "       2, 1, 4, 3, 1, 1, 3, 1, 4, 4, 1, 4, 3, 3, 3, 4, 1, 4, 1, 1, 3, 2,\n",
       "       4, 3, 1, 1, 3, 1, 1, 3, 1, 1, 3, 3, 4, 3, 3, 2, 1, 3, 1, 2, 2, 1,\n",
       "       3, 2, 1, 1, 3, 2, 1, 3, 1, 2, 1, 3, 1, 2, 2, 3, 4, 3, 3, 1, 1, 1,\n",
       "       1, 3, 2, 3, 1, 1, 3, 1, 3, 2, 1, 3, 1, 3, 2, 1, 3, 1, 1, 2, 1, 3,\n",
       "       1, 4, 1, 1, 1, 1, 1, 4, 3, 3, 4, 4, 3, 1, 3, 1, 1, 3, 1, 1, 1, 1,\n",
       "       1, 3, 2, 2, 1, 3, 2, 1, 2, 3, 1, 3, 1, 3, 1, 3, 4, 1, 1, 1, 1, 1,\n",
       "       4, 3, 4, 2, 1, 1, 3, 2, 1, 1, 4, 4, 3, 1, 1, 1, 4, 1, 1, 2, 1, 1,\n",
       "       3, 1, 1, 4, 3, 1, 3, 4, 1, 3, 1, 2, 2, 2, 4, 3, 2, 4, 4, 1, 3, 3,\n",
       "       1, 3, 3, 3, 1, 3, 3, 3, 3, 1, 2, 2, 3, 3, 4, 1, 3, 3, 3, 1, 3, 3,\n",
       "       3, 1, 2, 3, 1, 1, 3, 3, 3, 3, 1, 3, 3, 3, 3, 1, 4, 3, 3, 3, 4, 3,\n",
       "       2, 3, 4, 1, 1, 3, 1, 3, 1, 1, 1, 1, 4, 2, 4, 3, 3, 4, 1, 3, 1, 3,\n",
       "       4, 3, 2, 1, 3, 1, 3, 2, 3, 1, 3, 1, 3, 2, 1, 1, 1, 3, 1, 3, 3, 1,\n",
       "       3, 3, 2, 1, 1, 1, 1, 3, 3, 1, 1, 3, 3, 1, 2, 1, 4, 4, 4, 3, 3, 1,\n",
       "       3, 3, 3, 3, 3, 2, 4, 2, 1, 3, 3, 4, 1, 3, 1, 4, 2, 1, 1, 3, 3, 1,\n",
       "       4, 3, 2, 3, 1, 2, 2, 3, 4, 3])"
      ]
     },
     "execution_count": 57,
     "metadata": {},
     "output_type": "execute_result"
    }
   ],
   "source": [
    "model2 = AdaBoostClassifier()\n",
    "classifier2 = model2.fit(x_train, y_train)     # fit the model\n",
    "y_pred2 = classifier2.predict(x_test)          # predicting the values\n",
    "y_pred2 "
   ]
  },
  {
   "cell_type": "code",
   "execution_count": 58,
   "id": "f186f3fd",
   "metadata": {},
   "outputs": [],
   "source": [
    "scores2 = cross_validate(model2, x, y, scoring = scoring, cv = cv)     # model evaluation"
   ]
  },
  {
   "cell_type": "code",
   "execution_count": 59,
   "id": "2baffbca",
   "metadata": {},
   "outputs": [
    {
     "name": "stdout",
     "output_type": "stream",
     "text": [
      "Accuracy : 0.6242222222222222\n",
      "F1-Score : 0.6000274267374924\n",
      "Precision : 0.6281635304370883\n",
      "Recall : 0.6242222222222222\n"
     ]
    }
   ],
   "source": [
    "ms12 = (scores2['test_accuracy'])\n",
    "ms22 = (scores2['test_f1_weighted'])\n",
    "ms32 = (scores2['test_precision_weighted'])\n",
    "ms42 = (scores2['test_recall_weighted'])\n",
    "\n",
    "print(f'''Accuracy : {mean(ms12)}\\nF1-Score : {mean(ms22)}\\nPrecision : {mean(ms32)}\\nRecall : {mean(ms42)}''')"
   ]
  },
  {
   "cell_type": "markdown",
   "id": "300f530f",
   "metadata": {},
   "source": [
    "#### Stacking Classifier"
   ]
  },
  {
   "cell_type": "code",
   "execution_count": 64,
   "id": "6f13e7fa",
   "metadata": {},
   "outputs": [
    {
     "data": {
      "text/plain": [
       "array([3, 3, 0, 4, 1, 3, 0, 3, 1, 3, 1, 1, 2, 0, 1, 0, 2, 3, 3, 3, 3, 3,\n",
       "       1, 3, 0, 2, 2, 3, 2, 2, 2, 2, 3, 0, 3, 3, 1, 3, 3, 4, 2, 2, 3, 3,\n",
       "       1, 4, 2, 3, 3, 3, 1, 3, 1, 2, 1, 3, 2, 3, 2, 3, 1, 1, 3, 0, 3, 0,\n",
       "       3, 3, 1, 3, 2, 1, 1, 3, 3, 3, 2, 0, 2, 4, 0, 0, 3, 3, 3, 3, 3, 0,\n",
       "       2, 3, 2, 3, 3, 3, 0, 2, 3, 2, 3, 1, 1, 3, 0, 1, 2, 1, 0, 3, 2, 3,\n",
       "       0, 3, 2, 1, 3, 3, 3, 2, 2, 2, 2, 1, 2, 3, 3, 3, 0, 2, 0, 3, 1, 3,\n",
       "       3, 2, 3, 3, 3, 1, 3, 3, 2, 1, 1, 2, 3, 3, 0, 1, 2, 2, 1, 1, 3, 1,\n",
       "       3, 3, 3, 3, 0, 2, 1, 3, 3, 3, 3, 0, 0, 0, 1, 3, 3, 1, 2, 0, 2, 3,\n",
       "       3, 2, 0, 1, 2, 2, 0, 1, 2, 3, 0, 0, 3, 3, 1, 3, 3, 2, 1, 0, 1, 3,\n",
       "       3, 3, 3, 2, 0, 1, 3, 0, 0, 1, 1, 2, 2, 2, 3, 3, 3, 3, 1, 3, 1, 2,\n",
       "       3, 3, 2, 0, 3, 3, 3, 3, 2, 0, 3, 0, 2, 3, 3, 0, 3, 3, 1, 3, 3, 2,\n",
       "       3, 1, 1, 2, 3, 2, 1, 0, 3, 2, 3, 0, 3, 2, 2, 1, 3, 2, 0, 0, 2, 0,\n",
       "       1, 0, 3, 0, 0, 3, 1, 3, 3, 3, 3, 0, 3, 3, 1, 4, 1, 3, 1, 0, 3, 0,\n",
       "       3, 3, 3, 0, 0, 2, 1, 3, 2, 2, 3, 3, 2, 4, 3, 2, 2, 2, 3, 3, 1, 2,\n",
       "       2, 2, 3, 2, 2, 3, 3, 3, 1, 3, 0, 1, 1, 1, 3, 0, 2, 3, 3, 3, 2, 3,\n",
       "       0, 2, 2, 2, 1, 2, 3, 3, 3, 2, 3, 0, 0, 3, 3, 1, 0, 3, 0, 2, 3, 4,\n",
       "       2, 3, 3, 3, 1, 3, 0, 1, 3, 0, 3, 2, 3, 3, 2, 2, 2, 2, 3, 1, 2, 3,\n",
       "       3, 3, 2, 3, 2, 0, 1, 2, 3, 2, 2, 3, 2, 3, 3, 3, 0, 3, 3, 3, 3, 3,\n",
       "       1, 0, 3, 3, 1, 3, 2, 3, 0, 1, 3, 3, 3, 1, 1, 3, 1, 3, 1, 2, 1, 3,\n",
       "       1, 3, 2, 3, 1, 3, 3, 3, 1, 3, 3, 1, 3, 0, 3, 2, 2, 2, 1, 2, 3, 3,\n",
       "       0, 3, 2, 3, 2, 3, 0, 2, 3, 3, 2, 1, 3, 1, 1, 3, 3, 2, 3, 1, 3, 2,\n",
       "       2, 3, 2, 3, 3, 3, 3, 3, 3, 1, 3, 0, 3, 1, 3, 3, 3, 3, 3, 3, 3, 1,\n",
       "       3, 1, 3, 1, 3, 2, 3, 3, 1, 3, 3, 0, 3, 1, 2, 3, 3, 1, 3, 3, 3, 3,\n",
       "       0, 2, 3, 3, 0, 3, 3, 1, 3, 3, 3, 3, 2, 3, 3, 1, 0, 0, 0, 3, 0, 1,\n",
       "       0, 3, 3, 3, 2, 0, 3, 2, 3, 3, 1, 3, 0, 2, 2, 3, 3, 0, 2, 3, 2, 3,\n",
       "       2, 2, 2, 3, 0, 2, 1, 3, 2, 1, 3, 1, 2, 1, 3, 2, 1, 1, 3, 3, 3, 2,\n",
       "       1, 3, 0, 2, 3, 3, 3, 2, 3, 3, 3, 2, 3, 3, 2, 1, 1, 2, 3, 3, 2, 2,\n",
       "       3, 3, 3, 3, 3, 2, 2, 3, 3, 0, 1, 3, 0, 3, 2, 3, 2, 1, 3, 1, 3, 2,\n",
       "       2, 1, 2, 3, 2, 2, 3, 3, 0, 3, 3, 2, 2, 2, 3, 3, 3, 3, 3, 2, 3, 0,\n",
       "       0, 3, 2, 2, 3, 3, 3, 3, 0, 3, 3, 1, 3, 0, 3, 1, 0, 3, 3, 3, 3, 3,\n",
       "       3, 1, 2, 4, 2, 2, 3, 2, 3, 2, 0, 0, 3, 3, 1, 2, 2, 2, 3, 0, 2, 3,\n",
       "       2, 1, 3, 2, 1, 0, 3, 0, 3, 3, 0, 3, 3, 3, 3, 3, 0, 3, 1, 1, 3, 2,\n",
       "       3, 3, 0, 1, 3, 1, 0, 2, 2, 0, 2, 2, 3, 3, 3, 2, 1, 3, 0, 2, 2, 2,\n",
       "       3, 2, 1, 1, 3, 2, 1, 3, 0, 1, 1, 3, 1, 2, 2, 3, 4, 3, 3, 0, 1, 0,\n",
       "       1, 3, 2, 3, 0, 0, 3, 0, 2, 2, 2, 3, 0, 3, 3, 0, 2, 0, 1, 2, 0, 2,\n",
       "       1, 3, 1, 1, 0, 0, 1, 3, 3, 3, 3, 3, 2, 0, 3, 0, 1, 2, 1, 1, 1, 0,\n",
       "       1, 3, 2, 2, 1, 3, 1, 2, 2, 3, 1, 3, 0, 3, 1, 2, 3, 1, 1, 1, 1, 0,\n",
       "       3, 3, 3, 2, 1, 0, 3, 2, 0, 0, 3, 3, 2, 2, 0, 2, 3, 0, 1, 2, 2, 1,\n",
       "       3, 0, 1, 3, 2, 0, 3, 3, 1, 3, 0, 1, 2, 2, 4, 2, 2, 3, 3, 1, 3, 2,\n",
       "       1, 3, 3, 3, 1, 3, 2, 2, 2, 2, 2, 2, 3, 3, 3, 2, 2, 3, 3, 1, 3, 3,\n",
       "       3, 2, 2, 2, 2, 1, 3, 3, 2, 3, 0, 3, 3, 2, 3, 0, 3, 3, 2, 3, 3, 3,\n",
       "       2, 3, 3, 0, 0, 3, 0, 3, 0, 0, 1, 1, 3, 2, 3, 3, 3, 3, 0, 3, 0, 3,\n",
       "       3, 3, 2, 0, 3, 1, 3, 2, 2, 1, 2, 0, 3, 2, 1, 1, 1, 3, 1, 3, 3, 2,\n",
       "       2, 3, 2, 1, 1, 0, 0, 2, 3, 1, 0, 3, 3, 1, 2, 1, 3, 4, 3, 3, 2, 0,\n",
       "       2, 3, 3, 3, 3, 2, 3, 3, 1, 3, 3, 3, 1, 2, 0, 3, 2, 1, 0, 3, 2, 2,\n",
       "       4, 2, 2, 3, 1, 2, 2, 3, 3, 3])"
      ]
     },
     "execution_count": 64,
     "metadata": {},
     "output_type": "execute_result"
    }
   ],
   "source": [
    "estimate = [('lr',LogisticRegression()), ('knn',KNeighborsClassifier()), ('tree',DecisionTreeClassifier()), ('svm',SVC()), ('bayes', GaussianNB())]\n",
    "final_estimate = LogisticRegression()\n",
    "model3 = StackingClassifier(estimators = estimate, final_estimator = final_estimate, cv = 3) \n",
    "classifier3 = model3.fit(x_train, y_train)       # fit the model\n",
    "y_pred3 = classifier3.predict(x_test)            # predicting the values\n",
    "y_pred3 "
   ]
  },
  {
   "cell_type": "code",
   "execution_count": 65,
   "id": "d716519d",
   "metadata": {},
   "outputs": [],
   "source": [
    "scores3 = cross_validate(model3, x, y, scoring = scoring, cv = cv)     # model evaluation"
   ]
  },
  {
   "cell_type": "code",
   "execution_count": 66,
   "id": "d1e60943",
   "metadata": {},
   "outputs": [
    {
     "name": "stdout",
     "output_type": "stream",
     "text": [
      "Accuracy : 0.8643333333333333\n",
      "F1-Score : 0.8632242189881622\n",
      "Precision : 0.8639031348368424\n",
      "Recall : 0.8643333333333333\n"
     ]
    }
   ],
   "source": [
    "ms13 = (scores3['test_accuracy'])\n",
    "ms23 = (scores3['test_f1_weighted'])\n",
    "ms33 = (scores3['test_precision_weighted'])\n",
    "ms43 = (scores3['test_recall_weighted'])\n",
    "\n",
    "print(f'''Accuracy : {mean(ms13)}\\nF1-Score : {mean(ms23)}\\nPrecision : {mean(ms33)}\\nRecall : {mean(ms43)}''')"
   ]
  },
  {
   "cell_type": "markdown",
   "id": "60c97bd3",
   "metadata": {},
   "source": [
    "#### Tabulation"
   ]
  },
  {
   "cell_type": "code",
   "execution_count": 67,
   "id": "abda98ff",
   "metadata": {},
   "outputs": [
    {
     "data": {
      "text/html": [
       "<div>\n",
       "<style scoped>\n",
       "    .dataframe tbody tr th:only-of-type {\n",
       "        vertical-align: middle;\n",
       "    }\n",
       "\n",
       "    .dataframe tbody tr th {\n",
       "        vertical-align: top;\n",
       "    }\n",
       "\n",
       "    .dataframe thead th {\n",
       "        text-align: right;\n",
       "    }\n",
       "</style>\n",
       "<table border=\"1\" class=\"dataframe\">\n",
       "  <thead>\n",
       "    <tr style=\"text-align: right;\">\n",
       "      <th></th>\n",
       "      <th>Model</th>\n",
       "      <th>Accuracy</th>\n",
       "      <th>F1-Score</th>\n",
       "      <th>Precison</th>\n",
       "      <th>Recall</th>\n",
       "    </tr>\n",
       "  </thead>\n",
       "  <tbody>\n",
       "    <tr>\n",
       "      <th>0</th>\n",
       "      <td>Logistic Regression</td>\n",
       "      <td>0.545222</td>\n",
       "      <td>0.522654</td>\n",
       "      <td>0.507714</td>\n",
       "      <td>0.545222</td>\n",
       "    </tr>\n",
       "    <tr>\n",
       "      <th>1</th>\n",
       "      <td>Random Forest Classifier</td>\n",
       "      <td>0.893889</td>\n",
       "      <td>0.890772</td>\n",
       "      <td>0.894814</td>\n",
       "      <td>0.893889</td>\n",
       "    </tr>\n",
       "    <tr>\n",
       "      <th>2</th>\n",
       "      <td>ADA Boost Classifier</td>\n",
       "      <td>0.624222</td>\n",
       "      <td>0.600027</td>\n",
       "      <td>0.628164</td>\n",
       "      <td>0.624222</td>\n",
       "    </tr>\n",
       "    <tr>\n",
       "      <th>3</th>\n",
       "      <td>Stacking Classifier</td>\n",
       "      <td>0.864333</td>\n",
       "      <td>0.863224</td>\n",
       "      <td>0.863903</td>\n",
       "      <td>0.864333</td>\n",
       "    </tr>\n",
       "  </tbody>\n",
       "</table>\n",
       "</div>"
      ],
      "text/plain": [
       "                      Model  Accuracy  F1-Score  Precison    Recall\n",
       "0       Logistic Regression  0.545222  0.522654  0.507714  0.545222\n",
       "1  Random Forest Classifier  0.893889  0.890772  0.894814  0.893889\n",
       "2      ADA Boost Classifier  0.624222  0.600027  0.628164  0.624222\n",
       "3       Stacking Classifier  0.864333  0.863224  0.863903  0.864333"
      ]
     },
     "execution_count": 67,
     "metadata": {},
     "output_type": "execute_result"
    }
   ],
   "source": [
    "All = pd.DataFrame()\n",
    "All['Model'] = ['Logistic Regression','Random Forest Classifier','ADA Boost Classifier','Stacking Classifier']\n",
    "All['Accuracy'] = [mean(ms1),mean(ms11),mean(ms12),mean(ms13)]\n",
    "All['F1-Score'] = [mean(ms2),mean(ms21),mean(ms22),mean(ms23)]\n",
    "All['Precison'] = [mean(ms3),mean(ms31),mean(ms32),mean(ms33)]\n",
    "All['Recall'] = [mean(ms4),mean(ms41),mean(ms42),mean(ms43)]\n",
    "All"
   ]
  },
  {
   "cell_type": "markdown",
   "id": "90eaf8b4",
   "metadata": {},
   "source": [
    "#### Visualization"
   ]
  },
  {
   "cell_type": "code",
   "execution_count": 69,
   "id": "4c6589a5",
   "metadata": {},
   "outputs": [
    {
     "data": {
      "image/png": "[encoded data removed]",
      "text/plain": [
       "<Figure size 864x576 with 1 Axes>"
      ]
     },
     "metadata": {
      "needs_background": "light"
     },
     "output_type": "display_data"
    }
   ],
   "source": [
    "mods = ['Logistic Regression','Random Forest Classifier','ADA Boost Classifier','Stacking Classifier']\n",
    "fig, ax = plt.subplots(figsize = (12, 8))\n",
    "plt.title('Accuracy Score For All Models')\n",
    "plt.boxplot([ms1,ms11,ms12,ms13], labels = mods, showmeans = True)\n",
    "plt.show()"
   ]
  },
  {
   "cell_type": "code",
   "execution_count": 70,
   "id": "47972730",
   "metadata": {},
   "outputs": [
    {
     "data": {
      "image/png": "[encoded data removed]",
      "text/plain": [
       "<Figure size 864x576 with 1 Axes>"
      ]
     },
     "metadata": {
      "needs_background": "light"
     },
     "output_type": "display_data"
    }
   ],
   "source": [
    "mods = ['Logistic Regression','Random Forest Classifier','ADA Boost Classifier','Stacking Classifier']\n",
    "fig, ax = plt.subplots(figsize = (12, 8))\n",
    "plt.title('F1-Score For All Models')\n",
    "plt.boxplot([ms2,ms21,ms22,ms23], labels = mods, showmeans = True)\n",
    "plt.show()"
   ]
  },
  {
   "cell_type": "code",
   "execution_count": 71,
   "id": "58d765b7",
   "metadata": {},
   "outputs": [
    {
     "data": {
      "image/png": "[encoded data removed]",
      "text/plain": [
       "<Figure size 864x576 with 1 Axes>"
      ]
     },
     "metadata": {
      "needs_background": "light"
     },
     "output_type": "display_data"
    }
   ],
   "source": [
    "mods = ['Logistic Regression','Random Forest Classifier','ADA Boost Classifier','Stacking Classifier']\n",
    "fig, ax = plt.subplots(figsize = (12, 8))\n",
    "plt.title('Precison Score For All Models')\n",
    "plt.boxplot([ms3,ms31,ms32,ms33], labels = mods, showmeans = True)\n",
    "plt.show()"
   ]
  },
  {
   "cell_type": "code",
   "execution_count": 72,
   "id": "182fd348",
   "metadata": {},
   "outputs": [
    {
     "data": {
      "image/png": "[encoded data removed]",
      "text/plain": [
       "<Figure size 720x360 with 1 Axes>"
      ]
     },
     "metadata": {
      "needs_background": "light"
     },
     "output_type": "display_data"
    }
   ],
   "source": [
    "mods = ['Logistic Regression','Random Forest Classifier','ADA Boost Classifier','Stacking Classifier']\n",
    "fig, ax = plt.subplots(figsize = (10, 5))\n",
    "plt.title('Recall Score For All Models')\n",
    "plt.boxplot([ms4,ms41,ms42,ms43], labels = mods, showmeans = True)\n",
    "plt.show()"
   ]
  },
  {
   "cell_type": "markdown",
   "id": "4938d8b6",
   "metadata": {},
   "source": [
    "#### Conclusion :\n",
    "    * I have used 4 models where as Logistic Regression, Random Forest Classifier, AdaBoost Classifier, Stacking Classifier\n",
    "    * We can observe that Random Forest Classifier and Stacking Classifier are performing well in accuracy, f1-score, precision and recall score\n",
    "    * Finally, we are considering Random Forest Classifier as a good performer in this data with Accuracy : 0.893889, f1-score : 0.890772, precision : 0.894814, recall score : 0.893889"
   ]
  },
  {
   "cell_type": "code",
   "execution_count": null,
   "id": "a3b0ccc0",
   "metadata": {},
   "outputs": [],
   "source": []
  }
 ],
 "metadata": {
  "kernelspec": {
   "display_name": "Python 3 (ipykernel)",
   "language": "python",
   "name": "python3"
  },
  "language_info": {
   "codemirror_mode": {
    "name": "ipython",
    "version": 3
   },
   "file_extension": ".py",
   "mimetype": "text/x-python",
   "name": "python",
   "nbconvert_exporter": "python",
   "pygments_lexer": "ipython3",
   "version": "3.9.12"
  }
 },
 "nbformat": 4,
 "nbformat_minor": 5
}
